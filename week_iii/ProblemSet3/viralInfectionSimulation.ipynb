{
 "cells": [
  {
   "cell_type": "code",
   "execution_count": 1,
   "metadata": {
    "collapsed": true
   },
   "outputs": [],
   "source": [
    "import random\n",
    "import pylab"
   ]
  },
  {
   "cell_type": "code",
   "execution_count": 2,
   "metadata": {
    "collapsed": false
   },
   "outputs": [],
   "source": [
    "class NoChildException(Exception):\n",
    "    \"\"\"\n",
    "    NoChildException is raised by the reproduce() method in the SimpleVirus\n",
    "    and ResistantVirus classes to indicate that a virus particle does not\n",
    "    reproduce. You can use NoChildException as is, you do not need to\n",
    "    modify/add any code.\n",
    "    \"\"\""
   ]
  },
  {
   "cell_type": "code",
   "execution_count": 3,
   "metadata": {
    "collapsed": true
   },
   "outputs": [],
   "source": [
    "# PROBLEM 1\n",
    "\n",
    "class SimpleVirus(object):\n",
    "    \"\"\"\n",
    "    Representation of a simple virus (does not model drug effects/resistance).\n",
    "    \"\"\"\n",
    "    def __init__(self, maxBirthProb, clearProb):\n",
    "        \"\"\"\n",
    "        Initialize a SimpleVirus instance, saves all parameters as attributes\n",
    "        of the instance.        \n",
    "        maxBirthProb: Maximum reproduction probability (a float between 0-1)        \n",
    "        clearProb: Maximum clearance probability (a float between 0-1).\n",
    "        \"\"\"\n",
    "        self.maxBirthProb = maxBirthProb\n",
    "        self.clearProb = clearProb\n",
    "\n",
    "    def getMaxBirthProb(self):\n",
    "        \"\"\"\n",
    "        Returns the max birth probability.\n",
    "        \"\"\"\n",
    "        return self.maxBirthProb\n",
    "\n",
    "    def getClearProb(self):\n",
    "        \"\"\"\n",
    "        Returns the clear probability.\n",
    "        \"\"\"\n",
    "        return self.clearProb\n",
    "\n",
    "    def doesClear(self):\n",
    "        \"\"\"\n",
    "        Stochastically determines whether this virus particle is cleared from the\n",
    "        patient's body at a time step. \n",
    "        returns: True with probability self.getClearProb and otherwise returns\n",
    "        False.\n",
    "        \"\"\"\n",
    "        return random.random() < self.clearProb\n",
    "    \n",
    "    def reproduce(self, popDensity):\n",
    "        \"\"\"\n",
    "        Stochastically determines whether this virus particle reproduces at a\n",
    "        time step. Called by the update() method in the Patient and\n",
    "        TreatedPatient classes. The virus particle reproduces with probability\n",
    "        self.maxBirthProb * (1 - popDensity).\n",
    "        \n",
    "        If this virus particle reproduces, then reproduce() creates and returns\n",
    "        the instance of the offspring SimpleVirus (which has the same\n",
    "        maxBirthProb and clearProb values as its parent).         \n",
    "\n",
    "        popDensity: the population density (a float), defined as the current\n",
    "        virus population divided by the maximum population.         \n",
    "        \n",
    "        returns: a new instance of the SimpleVirus class representing the\n",
    "        offspring of this virus particle. The child should have the same\n",
    "        maxBirthProb and clearProb values as this virus. Raises a\n",
    "        NoChildException if this virus particle does not reproduce.               \n",
    "        \"\"\"\n",
    "        if random.random() < self.maxBirthProb * (1 - popDensity):\n",
    "            newVirus = SimpleVirus(self.maxBirthProb, self.clearProb)\n",
    "            return newVirus\n",
    "        else:\n",
    "            raise NoChildException"
   ]
  },
  {
   "cell_type": "code",
   "execution_count": 4,
   "metadata": {
    "collapsed": true
   },
   "outputs": [],
   "source": [
    "class Patient(object):\n",
    "    \"\"\"\n",
    "    Representation of a simplified patient. The patient does not take any drugs\n",
    "    and his/her virus populations have no drug resistance.\n",
    "    \"\"\"    \n",
    "\n",
    "    def __init__(self, viruses, maxPop):\n",
    "        \"\"\"\n",
    "        Initialization function, saves the viruses and maxPop parameters as\n",
    "        attributes.\n",
    "        viruses: the list representing the virus population (a list of\n",
    "        SimpleVirus instances)\n",
    "        maxPop: the maximum virus population for this patient (an integer)\n",
    "        \"\"\"\n",
    "        self.viruses = viruses\n",
    "        self.maxPop = maxPop\n",
    "\n",
    "    def getViruses(self):\n",
    "        \"\"\"\n",
    "        Returns the viruses in this Patient.\n",
    "        \"\"\"\n",
    "        return self.viruses\n",
    "\n",
    "\n",
    "    def getMaxPop(self):\n",
    "        \"\"\"\n",
    "        Returns the max population.\n",
    "        \"\"\"\n",
    "        return self.maxPop\n",
    "\n",
    "\n",
    "    def getTotalPop(self):\n",
    "        \"\"\"\n",
    "        Gets the size of the current total virus population. \n",
    "        returns: The total virus population (an integer)\n",
    "        \"\"\"\n",
    "        return len(self.viruses) \n",
    "\n",
    "\n",
    "    def update(self):\n",
    "        \"\"\"\n",
    "        Update the state of the virus population in this patient for a single\n",
    "        time step. update() should execute the following steps in this order:\n",
    "        \n",
    "        - Determine whether each virus particle survives and updates the list\n",
    "        of virus particles accordingly.   \n",
    "        \n",
    "        - The current population density is calculated. This population density\n",
    "          value is used until the next call to update() \n",
    "        \n",
    "        - Based on this value of population density, determine whether each \n",
    "          virus particle should reproduce and add offspring virus particles to \n",
    "          the list of viruses in this patient.                    \n",
    "\n",
    "        returns: The total virus population at the end of the update (an\n",
    "        integer)\n",
    "        \"\"\"\n",
    "        self.popDensity = len(self.viruses)/self.maxPop\n",
    "        \n",
    "        for v in self.viruses:\n",
    "            if v.doesClear():\n",
    "                self.viruses.remove(v)\n",
    "        \n",
    "        if self.popDensity <= 1:\n",
    "            for v in self.viruses:\n",
    "                try:\n",
    "                    self.viruses.append(v.reproduce(self.popDensity))\n",
    "                except NoChildException:\n",
    "                    pass\n",
    "            return float(len(self.viruses))"
   ]
  },
  {
   "cell_type": "code",
   "execution_count": 5,
   "metadata": {
    "collapsed": true
   },
   "outputs": [],
   "source": [
    "virus = SimpleVirus(1.0, 0.0)\n",
    "patient = Patient([virus], 100)"
   ]
  },
  {
   "cell_type": "code",
   "execution_count": 6,
   "metadata": {
    "collapsed": false
   },
   "outputs": [
    {
     "data": {
      "text/plain": [
       "81.0"
      ]
     },
     "execution_count": 6,
     "metadata": {},
     "output_type": "execute_result"
    }
   ],
   "source": [
    "patient.update()"
   ]
  },
  {
   "cell_type": "code",
   "execution_count": 7,
   "metadata": {
    "collapsed": false
   },
   "outputs": [],
   "source": [
    "def simulationWithoutDrug(numViruses, maxPop, maxBirthProb, clearProb,\n",
    "                          numTrials):\n",
    "    \"\"\"\n",
    "    Run the simulation and plot the graph for problem 3 (no drugs are used,\n",
    "    viruses do not have any drug resistance).    \n",
    "    For each of numTrials trial, instantiates a patient, runs a simulation\n",
    "    for 300 timesteps, and plots the average virus population size as a\n",
    "    function of time.\n",
    "\n",
    "    numViruses: number of SimpleVirus to create for patient (an integer)\n",
    "    maxPop: maximum virus population for patient (an integer)\n",
    "    maxBirthProb: Maximum reproduction probability (a float between 0-1)        \n",
    "    clearProb: Maximum clearance probability (a float between 0-1)\n",
    "    numTrials: number of simulation runs to execute (an integer)\n",
    "    \"\"\"\n",
    "    averageList = [0.0]*300\n",
    "    for t in range(numTrials):\n",
    "        viruses = []\n",
    "        for v in range(numViruses):\n",
    "            viruses += [SimpleVirus(maxBirthProb, clearProb)]\n",
    "        patient = Patient(viruses, maxPop)\n",
    "        \n",
    "        for tS in range(300):\n",
    "            averageList[tS] = averageList[tS] + patient.update()\n",
    "#     for tS in range(300):\n",
    "#         averageList[tS] = averageList[tS]/300.0\n",
    "        \n",
    "    pylab.plot(range(300), averageList)\n",
    "    pylab.xlabel(\"Time Steps\")\n",
    "    pylab.ylabel(\"Average Virus Population\")\n",
    "    pylab.title(\"SimpleVirus simulation\")\n",
    "    pylab.legend()\n",
    "    pylab.show()"
   ]
  },
  {
   "cell_type": "code",
   "execution_count": 8,
   "metadata": {
    "collapsed": false
   },
   "outputs": [
    {
     "name": "stderr",
     "output_type": "stream",
     "text": [
      "/Users/nikita/anaconda/lib/python3.6/site-packages/matplotlib/axes/_axes.py:545: UserWarning: No labelled objects found. Use label='...' kwarg on individual plots.\n",
      "  warnings.warn(\"No labelled objects found. \"\n"
     ]
    },
    {
     "data": {
      "image/png": "[encoded data removed]",
      "text/plain": [
       "<matplotlib.figure.Figure at 0x10bed2d30>"
      ]
     },
     "metadata": {},
     "output_type": "display_data"
    }
   ],
   "source": [
    "numViruses = 1\n",
    "maxPop = 1000\n",
    "maxBirthProb = 0.1\n",
    "clearProb = 0.05\n",
    "numTrials = 100\n",
    "simulationWithoutDrug(numViruses, maxPop, maxBirthProb, clearProb, numTrials)"
   ]
  },
  {
   "cell_type": "code",
   "execution_count": 17,
   "metadata": {
    "collapsed": false
   },
   "outputs": [],
   "source": [
    "# PROBLEM 3\n",
    "#\n",
    "class ResistantVirus(SimpleVirus):\n",
    "    \"\"\"\n",
    "    Representation of a virus which can have drug resistance.\n",
    "    \"\"\"   \n",
    "    def __init__(self, maxBirthProb, clearProb, resistances, mutProb):\n",
    "        \"\"\"\n",
    "        Initialize a ResistantVirus instance, saves all parameters as attributes\n",
    "        of the instance.\n",
    "        maxBirthProb: Maximum reproduction probability (a float between 0-1)       \n",
    "        clearProb: Maximum clearance probability (a float between 0-1).\n",
    "        resistances: A dictionary of drug names (strings) mapping to the state\n",
    "        of this virus particle's resistance (either True or False) to each drug.\n",
    "        e.g. {'guttagonol':False, 'srinol':False}, means that this virus\n",
    "        particle is resistant to neither guttagonol nor srinol.\n",
    "        mutProb: Mutation probability for this virus particle (a float). This is\n",
    "        the probability of the offspring acquiring or losing resistance to a drug.\n",
    "        \"\"\"\n",
    "        SimpleVirus.__init__(self, maxBirthProb, clearProb)\n",
    "        self.resistances = resistances\n",
    "        self.mutProb = mutProb\n",
    "\n",
    "    def getResistances(self):\n",
    "        \"\"\"\n",
    "        Returns the resistances for this virus.\n",
    "        \"\"\"\n",
    "        return self.resistances\n",
    "    def getMutProb(self):\n",
    "        \"\"\"\n",
    "        Returns the mutation probability for this virus.\n",
    "        \"\"\"\n",
    "        return self.mutProb\n",
    "    def isResistantTo(self, drug):\n",
    "        \"\"\"\n",
    "        Get the state of this virus particle's resistance to a drug. This method\n",
    "        is called by getResistPop() in TreatedPatient to determine how many virus\n",
    "        particles have resistance to a drug.       \n",
    "        drug: The drug (a string)\n",
    "        returns: True if this virus instance is resistant to the drug, False\n",
    "        otherwise.\n",
    "        \"\"\"\n",
    "        if drug in self.resistances:\n",
    "            return self.resistances[drug]\n",
    "        else:\n",
    "            return False\n",
    "\n",
    "    def reproduce(self, popDensity, activeDrugs):\n",
    "        \"\"\"\n",
    "        Stochastically determines whether this virus particle reproduces at a\n",
    "        time step. Called by the update() method in the TreatedPatient class.\n",
    "\n",
    "        A virus particle will only reproduce if it is resistant to ALL the drugs\n",
    "        in the activeDrugs list. For example, if there are 2 drugs in the\n",
    "        activeDrugs list, and the virus particle is resistant to 1 or no drugs,\n",
    "        then it will NOT reproduce.\n",
    "\n",
    "        Hence, if the virus is resistant to all drugs\n",
    "        in activeDrugs, then the virus reproduces with probability:      \n",
    "\n",
    "        self.maxBirthProb * (1 - popDensity).                       \n",
    "\n",
    "        If this virus particle reproduces, then reproduce() creates and returns\n",
    "        the instance of the offspring ResistantVirus (which has the same\n",
    "        maxBirthProb and clearProb values as its parent). The offspring virus\n",
    "        will have the same maxBirthProb, clearProb, and mutProb as the parent.\n",
    "\n",
    "        For each drug resistance trait of the virus (i.e. each key of\n",
    "        self.resistances), the offspring has probability 1-mutProb of\n",
    "        inheriting that resistance trait from the parent, and probability\n",
    "        mutProb of switching that resistance trait in the offspring.       \n",
    "\n",
    "        For example, if a virus particle is resistant to guttagonol but not\n",
    "        srinol, and self.mutProb is 0.1, then there is a 10% chance that\n",
    "        that the offspring will lose resistance to guttagonol and a 90%\n",
    "        chance that the offspring will be resistant to guttagonol.\n",
    "        There is also a 10% chance that the offspring will gain resistance to\n",
    "        srinol and a 90% chance that the offspring will not be resistant to\n",
    "        srinol.\n",
    "\n",
    "        popDensity: the population density (a float), defined as the current\n",
    "        virus population divided by the maximum population       \n",
    "\n",
    "        activeDrugs: a list of the drug names acting on this virus particle\n",
    "        (a list of strings).\n",
    "\n",
    "        returns: a new instance of the ResistantVirus class representing the\n",
    "        offspring of this virus particle. The child should have the same\n",
    "        maxBirthProb and clearProb values as this virus. Raises a\n",
    "        NoChildException if this virus particle does not reproduce.\n",
    "        \"\"\"\n",
    "        if sum([self.resistances[d] for d in activeDrugs]) > 0 or len(activeDrugs) == 0:\n",
    "            if random.random() <= self.maxBirthProb * (1 - popDensity):\n",
    "                newResistances = {}\n",
    "                for d in self.resistances:\n",
    "                    if random.random() <= self.mutProb:\n",
    "                        newResistances[d] = not self.resistances[d]\n",
    "                    else:\n",
    "                        newResistances[d] = self.resistances[d]\n",
    "                newResistantVirus = ResistantVirus(self.maxBirthProb, self.clearProb, newResistances, self.mutProb)\n",
    "                return newResistantVirus\n",
    "            \n",
    "\n",
    "            \n",
    "\n",
    "class TreatedPatient(Patient):\n",
    "    \"\"\"\n",
    "    Representation of a patient. The patient is able to take drugs and his/her\n",
    "    virus population can acquire resistance to the drugs he/she takes.\n",
    "    \"\"\"\n",
    "\n",
    "    def __init__(self, viruses, maxPop):\n",
    "        \"\"\"\n",
    "        Initialization function, saves the viruses and maxPop parameters as\n",
    "        attributes. Also initializes the list of drugs being administered\n",
    "        (which should initially include no drugs).              \n",
    "\n",
    "        viruses: The list representing the virus population (a list of\n",
    "        virus instances)\n",
    "\n",
    "        maxPop: The  maximum virus population for this patient (an integer)\n",
    "        \"\"\"\n",
    "        Patient.__init__(self, viruses, maxPop)\n",
    "\n",
    "    def addPrescription(self, newDrug):\n",
    "        \"\"\"\n",
    "        Administer a drug to this patient. After a prescription is added, the\n",
    "        drug acts on the virus population for all subsequent time steps. If the\n",
    "        newDrug is already prescribed to this patient, the method has no effect.\n",
    "        newDrug: The name of the drug to administer to the patient (a string).\n",
    "        postcondition: The list of drugs being administered to a patient is updated\n",
    "        \"\"\"\n",
    "        \n",
    "        self.activeDrugs = []\n",
    "        if newDrug not in self.activeDrugs:\n",
    "            return self.activeDrugs.append(newDrug)\n",
    "        else:\n",
    "            return self.activeDrugs\n",
    "\n",
    "    def getPrescriptions(self):\n",
    "        \"\"\"\n",
    "        Returns the drugs that are being administered to this patient.\n",
    "        returns: The list of drug names (strings) being administered to this\n",
    "        patient.\n",
    "        \"\"\"\n",
    "        return self.activeDrugs\n",
    "\n",
    "    def getResistPop(self, drugResist):\n",
    "        \"\"\"\n",
    "        Get the population of virus particles resistant to the drugs listed in\n",
    "        drugResist.       \n",
    "        drugResist: Which drug resistances to includbe in the population (a list\n",
    "        of strings - e.g. ['guttagonol'] or ['guttagonol', 'srinol'])\n",
    "        returns: The population of viruses (an integer) with resistances to all\n",
    "        drugs in the drugResist list.\n",
    "        \"\"\"\n",
    "        resistantViruses = []\n",
    "        for v in self.viruses:\n",
    "            for d in drugResist:\n",
    "                if v.isResistantTo(d):\n",
    "                    break\n",
    "            else:\n",
    "                resistantViruses += [v]\n",
    "        return len(resistantViruses)\n",
    "\n",
    "\n",
    "    def update(self):\n",
    "        \"\"\"\n",
    "        Update the state of the virus population in this patient for a single\n",
    "        time step. update() should execute these actions in order:\n",
    "        - Determine whether each virus particle survives and update the list of\n",
    "          virus particles accordingly\n",
    "        - The current population density is calculated. This population density\n",
    "          value is used until the next call to update().\n",
    "        - Based on this value of population density, determine whether each \n",
    "          virus particle should reproduce and add offspring virus particles to \n",
    "          the list of viruses in this patient.\n",
    "          The list of drugs being administered should be accounted for in the\n",
    "          determination of whether each virus particle reproduces.\n",
    "        returns: The total virus population at the end of the update (an\n",
    "        integer)\n",
    "        \"\"\"\n",
    "        for v in self.viruses:\n",
    "            if v.doesClear():\n",
    "                self.viruses.remove(v)\n",
    "        \n",
    "        self.popDensity = len(self.viruses)/self.maxPop\n",
    "        \n",
    "        if self.popDensity <= 1:\n",
    "            for v in self.viruses:\n",
    "                try:\n",
    "                    self.viruses.append(v.reproduce(self.popDensity))\n",
    "                except NoChildException:\n",
    "                    pass\n",
    "            return float(len(self.viruses))"
   ]
  },
  {
   "cell_type": "code",
   "execution_count": 18,
   "metadata": {
    "collapsed": false
   },
   "outputs": [
    {
     "data": {
      "text/plain": [
       "{'drug1': True,\n",
       " 'drug2': True,\n",
       " 'drug3': True,\n",
       " 'drug4': True,\n",
       " 'drug5': True,\n",
       " 'drug6': True}"
      ]
     },
     "execution_count": 18,
     "metadata": {},
     "output_type": "execute_result"
    }
   ],
   "source": [
    "a = ResistantVirus(1.0, 0.0,\n",
    "                   {'drug1':True, 'drug2': True, 'drug3': True, 'drug4': True, 'drug5': True, 'drug6': True}, 0.5)\n",
    "a.getResistances()"
   ]
  },
  {
   "cell_type": "code",
   "execution_count": 19,
   "metadata": {
    "collapsed": false
   },
   "outputs": [
    {
     "name": "stdout",
     "output_type": "stream",
     "text": [
      "0\n",
      "{'drug1': True, 'drug2': False, 'drug3': True, 'drug4': False, 'drug5': False, 'drug6': False}\n",
      "1\n",
      "{'drug1': True, 'drug2': False, 'drug3': False, 'drug4': False, 'drug5': False, 'drug6': True}\n",
      "2\n",
      "{'drug1': False, 'drug2': True, 'drug3': False, 'drug4': True, 'drug5': False, 'drug6': False}\n",
      "3\n",
      "{'drug1': True, 'drug2': True, 'drug3': True, 'drug4': True, 'drug5': False, 'drug6': True}\n",
      "4\n",
      "{'drug1': False, 'drug2': False, 'drug3': False, 'drug4': True, 'drug5': False, 'drug6': True}\n",
      "5\n",
      "{'drug1': False, 'drug2': True, 'drug3': True, 'drug4': False, 'drug5': True, 'drug6': True}\n",
      "6\n",
      "{'drug1': False, 'drug2': True, 'drug3': False, 'drug4': False, 'drug5': True, 'drug6': True}\n",
      "7\n",
      "{'drug1': True, 'drug2': False, 'drug3': True, 'drug4': False, 'drug5': False, 'drug6': True}\n",
      "8\n",
      "{'drug1': True, 'drug2': True, 'drug3': False, 'drug4': False, 'drug5': True, 'drug6': False}\n",
      "9\n",
      "{'drug1': True, 'drug2': False, 'drug3': False, 'drug4': True, 'drug5': True, 'drug6': False}\n"
     ]
    }
   ],
   "source": [
    "activeDrugs = ['drug1', 'drug2', 'drug3', 'drug4', 'drug5', 'drug6']\n",
    "popDensity = 0.0\n",
    "for i in range(10):\n",
    "    print(i)\n",
    "    a.reproduce(0,[])\n",
    "    print(a.reproduce(0, []).getResistances())"
   ]
  },
  {
   "cell_type": "code",
   "execution_count": 12,
   "metadata": {
    "collapsed": false
   },
   "outputs": [
    {
     "data": {
      "text/plain": [
       "3"
      ]
     },
     "execution_count": 12,
     "metadata": {},
     "output_type": "execute_result"
    }
   ],
   "source": [
    "sum([True,True,False,False,True])"
   ]
  },
  {
   "cell_type": "code",
   "execution_count": null,
   "metadata": {
    "collapsed": true
   },
   "outputs": [],
   "source": []
  }
 ],
 "metadata": {
  "kernelspec": {
   "display_name": "Python 3",
   "language": "python",
   "name": "python3"
  },
  "language_info": {
   "codemirror_mode": {
    "name": "ipython",
    "version": 3
   },
   "file_extension": ".py",
   "mimetype": "text/x-python",
   "name": "python",
   "nbconvert_exporter": "python",
   "pygments_lexer": "ipython3",
   "version": "3.6.0"
  }
 },
 "nbformat": 4,
 "nbformat_minor": 2
}
