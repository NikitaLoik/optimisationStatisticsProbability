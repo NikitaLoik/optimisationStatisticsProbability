{
 "cells": [
  {
   "cell_type": "code",
   "execution_count": 1,
   "metadata": {
    "collapsed": false
   },
   "outputs": [],
   "source": [
    "def stdDevOfLengths(L):\n",
    "    \"\"\"\n",
    "    L: a list of strings\n",
    "\n",
    "    returns: float, the standard deviation of the lengths of the strings,\n",
    "      or NaN if L is empty.\n",
    "    \"\"\"\n",
    "    if len(L)==0:\n",
    "        return float(\"NaN\")\n",
    "    else:\n",
    "        lengthL = [len(l) for l in L]\n",
    "        meanL = sum(lengthL)/len(L)\n",
    "        varL = sum([(l-meanL)**2 for l in lengthL])/len(L)\n",
    "        std = varL**0.5\n",
    "    return std"
   ]
  },
  {
   "cell_type": "code",
   "execution_count": 2,
   "metadata": {
    "collapsed": false
   },
   "outputs": [
    {
     "data": {
      "text/plain": [
       "1.8708286933869707"
      ]
     },
     "execution_count": 2,
     "metadata": {},
     "output_type": "execute_result"
    }
   ],
   "source": [
    "L = ['apples', 'oranges', 'kiwis', 'pineapples']\n",
    "stdDevOfLengths(L)"
   ]
  },
  {
   "cell_type": "code",
   "execution_count": 3,
   "metadata": {
    "collapsed": false
   },
   "outputs": [
    {
     "data": {
      "text/plain": [
       "0.50343174926776213"
      ]
     },
     "execution_count": 3,
     "metadata": {},
     "output_type": "execute_result"
    }
   ],
   "source": [
    "import numpy as np\n",
    "\n",
    "np.std([10, 4, 12, 15, 20, 5])/np.mean([10, 4, 12, 15, 20, 5])"
   ]
  },
  {
   "cell_type": "code",
   "execution_count": 4,
   "metadata": {
    "collapsed": false
   },
   "outputs": [
    {
     "data": {
      "text/plain": [
       "<function matplotlib.pyplot.legend>"
      ]
     },
     "execution_count": 4,
     "metadata": {},
     "output_type": "execute_result"
    }
   ],
   "source": [
    "import pylab, random\n",
    "random.seed(0)\n",
    "\n",
    "####################\n",
    "## Helper functions#\n",
    "####################\n",
    "def flipCoin(numFlips):\n",
    "    '''\n",
    "    Returns the result of numFlips coin flips of a biased coin.\n",
    "\n",
    "    numFlips (int): the number of times to flip the coin.\n",
    "\n",
    "    returns: a list of length numFlips, where values are either 1 or 0,\n",
    "    with 1 indicating Heads and 0 indicating Tails.\n",
    "    '''\n",
    "    with open('coin_flips.txt','r') as f:\n",
    "        all_flips = f.read()\n",
    "    flips = random.sample(all_flips, numFlips)\n",
    "    return [int(flip == 'H') for flip in flips]\n",
    "\n",
    "\n",
    "def getMeanAndStd(X):\n",
    "    mean = sum(X)/float(len(X))\n",
    "    tot = 0.0\n",
    "    for x in X:\n",
    "        tot += (x - mean)**2\n",
    "    std = (tot/len(X))**0.5\n",
    "    return mean, std\n",
    "\n",
    "    \n",
    "#############################\n",
    "## CLT Hands-on\t\t     #\n",
    "##\t\t\t\t     #\n",
    "## Fill in the missing code #\n",
    "## Do not use numpy/pylab   #\n",
    "#############################\n",
    "meanOfMeans, stdOfMeans = [], []\n",
    "sampleSizes = range(10, 500, 50)\n",
    "\n",
    "def clt():\n",
    "    for sampleSize in sampleSizes:\n",
    "        sampleMeans = []\n",
    "        for t in range(20):\n",
    "            sample = flipCoin(sampleSize)\n",
    "            sampleMeans.append(getMeanAndStd(sample)[0])\n",
    "        meanOfMeans.append(getMeanAndStd(sampleMeans)[0])\n",
    "        stdOfMeans.append(getMeanAndStd(sampleMeans)[1])\n",
    "        ## FILL IN TWO LINES\n",
    "        ## WHAT TO DO WITH THE SAMPLE MEANS?\n",
    "\n",
    "clt()\n",
    "pylab.figure(1)\n",
    "pylab.errorbar(sampleSizes, meanOfMeans,\n",
    "               yerr = 1.96*pylab.array(stdOfMeans),\n",
    "               label = 'Est. mean and 95% confidence interval')\n",
    "pylab.xlim(0, max(sampleSizes) + 50)\n",
    "pylab.axhline(0.65, linestyle = '--',\n",
    "              label = 'True probability of Heads')\n",
    "pylab.title('Estimates of Probability of Heads')\n",
    "pylab.xlabel('Sample Size')\n",
    "pylab.ylabel('Fraction of Heads (minutes)')\n",
    "pylab.legend"
   ]
  },
  {
   "cell_type": "code",
   "execution_count": 5,
   "metadata": {
    "collapsed": false
   },
   "outputs": [
    {
     "data": {
      "text/plain": [
       "[0.816496580927726]"
      ]
     },
     "execution_count": 5,
     "metadata": {},
     "output_type": "execute_result"
    }
   ],
   "source": [
    "sampleMeans = [0,1,2,0,1,2,0,1,2]\n",
    "meanOfMeans = [1, 0, 1, 0, 1]\n",
    "[(sum([(mean-meanOfMeans[-1])**2 for mean in sampleMeans])/len(sampleMeans))**0.5]"
   ]
  },
  {
   "cell_type": "code",
   "execution_count": 6,
   "metadata": {
    "collapsed": false
   },
   "outputs": [],
   "source": [
    "import random\n",
    "\n",
    "# def pickABall(basket):\n",
    "    \n",
    "\n",
    "def noReplacementSimulation(numTrials):\n",
    "    '''\n",
    "    Runs numTrials trials of a Monte Carlo simulation\n",
    "    of drawing 3 balls out of a bucket containing\n",
    "    3 red and 3 green balls. Balls are not replaced once\n",
    "    drawn. Returns the a decimal - the fraction of times 3 \n",
    "    balls of the same color were drawn.\n",
    "    '''\n",
    "    # Your code here\n",
    "    basket = [0,0,0,1,1,1]\n",
    "    sameColour = 0\n",
    "    for t in range(numTrials):\n",
    "        randomBalls = random.sample(basket, 3)\n",
    "        if sum(randomBalls)==0 or sum(randomBalls)==3:\n",
    "            sameColour += 1\n",
    "    return sameColour/numTrials"
   ]
  },
  {
   "cell_type": "code",
   "execution_count": 7,
   "metadata": {
    "collapsed": false
   },
   "outputs": [
    {
     "data": {
      "text/plain": [
       "1"
      ]
     },
     "execution_count": 7,
     "metadata": {},
     "output_type": "execute_result"
    }
   ],
   "source": [
    "a = random.choice([0,0,0,1,1,1])\n",
    "a"
   ]
  },
  {
   "cell_type": "code",
   "execution_count": 8,
   "metadata": {
    "collapsed": false
   },
   "outputs": [
    {
     "name": "stdout",
     "output_type": "stream",
     "text": [
      "0 0 [0, 0, 1, 1, 1]\n",
      "3 1 [0, 0, 1, 1]\n",
      "3 1 [0, 0, 1]\n",
      "1 0 [0, 1]\n",
      "1 1 [0]\n"
     ]
    }
   ],
   "source": [
    "basket = [0,0,0,1,1,1]\n",
    "for i in range(5):\n",
    "    randomInt = random.randint(0, len(basket)-1)\n",
    "    ball = basket.pop(randomInt)\n",
    "    print(randomInt, ball, basket)\n"
   ]
  },
  {
   "cell_type": "code",
   "execution_count": 9,
   "metadata": {
    "collapsed": false
   },
   "outputs": [
    {
     "data": {
      "text/plain": [
       "[1, 0, 0, 0, 0, 0]"
      ]
     },
     "execution_count": 9,
     "metadata": {},
     "output_type": "execute_result"
    }
   ],
   "source": [
    "[random.randint(0,1) for i in range(6)]"
   ]
  },
  {
   "cell_type": "code",
   "execution_count": 10,
   "metadata": {
    "collapsed": false
   },
   "outputs": [
    {
     "name": "stdout",
     "output_type": "stream",
     "text": [
      "None\n"
     ]
    }
   ],
   "source": [
    "a = [0,0,0,1,1,1]\n",
    "print(random.shuffle(a))"
   ]
  },
  {
   "cell_type": "code",
   "execution_count": 11,
   "metadata": {
    "collapsed": false
   },
   "outputs": [
    {
     "data": {
      "text/plain": [
       "[0, 1, 1]"
      ]
     },
     "execution_count": 11,
     "metadata": {},
     "output_type": "execute_result"
    }
   ],
   "source": [
    "random.sample([0,0,0,1,1,1], 3)"
   ]
  },
  {
   "cell_type": "code",
   "execution_count": 13,
   "metadata": {
    "collapsed": false
   },
   "outputs": [
    {
     "data": {
      "text/plain": [
       "0.099792"
      ]
     },
     "execution_count": 13,
     "metadata": {},
     "output_type": "execute_result"
    }
   ],
   "source": [
    "noReplacementSimulation(1000000)"
   ]
  },
  {
   "cell_type": "code",
   "execution_count": null,
   "metadata": {
    "collapsed": true
   },
   "outputs": [],
   "source": []
  }
 ],
 "metadata": {
  "kernelspec": {
   "display_name": "Python 3",
   "language": "python",
   "name": "python3"
  },
  "language_info": {
   "codemirror_mode": {
    "name": "ipython",
    "version": 3
   },
   "file_extension": ".py",
   "mimetype": "text/x-python",
   "name": "python",
   "nbconvert_exporter": "python",
   "pygments_lexer": "ipython3",
   "version": "3.6.0"
  }
 },
 "nbformat": 4,
 "nbformat_minor": 2
}
