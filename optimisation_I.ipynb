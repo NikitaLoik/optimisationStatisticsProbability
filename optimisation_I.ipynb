{
 "cells": [
  {
   "cell_type": "markdown",
   "metadata": {},
   "source": [
    "# Optimisation Background\n",
    "\n",
    "The task of optimisation is twofold:\n",
    "\n",
    "1. maximize the value\n",
    "2. keep the pay within certain constraints\n",
    "\n",
    "One option is solving a knapsack problem. Mathematically speaking:\n",
    "\n",
    "$\\sum V_i \\cdot I_i \\to max$\n",
    "\n",
    "$\\sum V_i \\cdot I_i ≤ constraint$\n",
    "\n",
    "However this algorithm is exponential."
   ]
  },
  {
   "cell_type": "markdown",
   "metadata": {},
   "source": [
    "## Greedy Algorithm"
   ]
  },
  {
   "cell_type": "code",
   "execution_count": 1,
   "metadata": {
    "collapsed": true
   },
   "outputs": [],
   "source": [
    "# Set general algorithm\n",
    "class item(object):\n",
    "    def __init__(self, name, value, cost):\n",
    "        self.name = name\n",
    "        self.value = value\n",
    "        self.cost = cost     \n",
    "    def getValue(self):\n",
    "        return self.value\n",
    "    def getCost(self):\n",
    "        return self.cost\n",
    "    def density(self):\n",
    "        return self.getValue()/self.getCost()\n",
    "    def __str__(self):\n",
    "        return self.name + \": <\" + str(self.value) + \", \" + str(self.cost) + \">\"\n",
    "    \n",
    "def optimumChoice(names, values, costs):\n",
    "    optimumSet = []\n",
    "    for i in range(len(values)):\n",
    "        optimumSet.append(item(names[i], values[i], calories[i]))\n",
    "        return optimumSet\n",
    "\n",
    "def greedy(items, costConstraint, keyFunction):\n",
    "    '''Assumes items is a list, and maxCost >= 0;\n",
    "    keyFunction maps elements of items to numbers'''\n",
    "#     sorted(list) returns a copy of a list after sorting; list.sort() — sorts the list\n",
    "    itemsCopy = sorted(items, key = keyFunction, reverse = true)\n",
    "    \n",
    "    result = []\n",
    "    totalValue, totalCost = .0, .0\n",
    "    for i in range (itemsCopy):\n",
    "        if (totalCost+itemsCopy[i].getCost()) <= costConstraint:\n",
    "            result.append(itemsCopy[i])\n",
    "            totalCost += itemsCopy[i].getCost()\n",
    "            totalValue += itemsCopy[i].getValue()\n",
    "    return (result, totalValue)\n",
    "            \n",
    "def testGreedy(items, costConstraint, keyFunction):\n",
    "    taken, value = greedy(items, costConstraint, keyFunction)\n",
    "    print(\"Total value of items take =\", value)\n",
    "    for item in taken:\n",
    "        print(\"   \", item)\n",
    "\n",
    "def testGreedies(maxUnits):\n",
    "    print(\"Use greedy by value to allocate\", maxUnits, \"calories\")\n",
    "    testGreedy(items, maxUnits, item.getValue)\n",
    "    print(\"\\nUse greedy by cost to allocate\", maxUnita, \"calories\")\n",
    "    testGreedy(items, maxUnits, lambda x:1/item.getCost(x))\n",
    "    print(\"\\nUse greedy by density to allocate\", maxUnita, \"calories\")\n",
    "    testGreedy(items, maxUnits, item.density)"
   ]
  },
  {
   "cell_type": "markdown",
   "metadata": {},
   "source": [
    "# lambda, damn lambda"
   ]
  },
  {
   "cell_type": "code",
   "execution_count": 2,
   "metadata": {
    "collapsed": false
   },
   "outputs": [
    {
     "data": {
      "text/plain": [
       "3"
      ]
     },
     "execution_count": 2,
     "metadata": {},
     "output_type": "execute_result"
    }
   ],
   "source": [
    "f1 = lambda x: x\n",
    "f1(3)"
   ]
  },
  {
   "cell_type": "code",
   "execution_count": 3,
   "metadata": {
    "collapsed": false
   },
   "outputs": [
    {
     "data": {
      "text/plain": [
       "'Ana'"
      ]
     },
     "execution_count": 3,
     "metadata": {},
     "output_type": "execute_result"
    }
   ],
   "source": [
    "f1('Ana')"
   ]
  },
  {
   "cell_type": "code",
   "execution_count": 4,
   "metadata": {
    "collapsed": true
   },
   "outputs": [],
   "source": [
    "f2 = lambda x,y: x+y"
   ]
  },
  {
   "cell_type": "code",
   "execution_count": 5,
   "metadata": {
    "collapsed": false
   },
   "outputs": [
    {
     "data": {
      "text/plain": [
       "5"
      ]
     },
     "execution_count": 5,
     "metadata": {},
     "output_type": "execute_result"
    }
   ],
   "source": [
    "f2(2, 3)"
   ]
  },
  {
   "cell_type": "code",
   "execution_count": 6,
   "metadata": {
    "collapsed": false
   },
   "outputs": [
    {
     "data": {
      "text/plain": [
       "'AnaBell'"
      ]
     },
     "execution_count": 6,
     "metadata": {},
     "output_type": "execute_result"
    }
   ],
   "source": [
    "f2('Ana', 'Bell')"
   ]
  },
  {
   "cell_type": "code",
   "execution_count": 7,
   "metadata": {
    "collapsed": false
   },
   "outputs": [],
   "source": [
    "f3 = lambda x,y: 'factor' if (x%y==0) else 'not factor'"
   ]
  },
  {
   "cell_type": "code",
   "execution_count": 8,
   "metadata": {
    "collapsed": false
   },
   "outputs": [
    {
     "data": {
      "text/plain": [
       "'factor'"
      ]
     },
     "execution_count": 8,
     "metadata": {},
     "output_type": "execute_result"
    }
   ],
   "source": [
    "f3(4,2)"
   ]
  },
  {
   "cell_type": "code",
   "execution_count": 9,
   "metadata": {
    "collapsed": false
   },
   "outputs": [
    {
     "data": {
      "text/plain": [
       "'not factor'"
      ]
     },
     "execution_count": 9,
     "metadata": {},
     "output_type": "execute_result"
    }
   ],
   "source": [
    "f3(3,4)"
   ]
  },
  {
   "cell_type": "markdown",
   "metadata": {
    "collapsed": true
   },
   "source": [
    "## Brute-Force Algorithm Using Decision Tree or Search Tree\n",
    "$O(2^{i+1})$"
   ]
  },
  {
   "cell_type": "code",
   "execution_count": 10,
   "metadata": {
    "collapsed": false
   },
   "outputs": [],
   "source": [
    "def maxValue(toConsider, available):\n",
    "    '''toConsider is a list of items; avail is a weight;\n",
    "    return a tuple of the total value of a solution to\n",
    "    0/1-knapsack problem and the items of that solution'''\n",
    "    \n",
    "    if toConsider == [] or available == 0:\n",
    "        result = (0, ())\n",
    "    elif toConsider[0].getUnits() > available:\n",
    "        result = maxValue(toConsider[1:], available)\n",
    "    else:\n",
    "        nextItem = toConsider[0]\n",
    "        withVal, withToTake = maxValue(toConsider[1:], available - nextItem.getUnits())\n",
    "        withVal += nextItem.getValue()\n",
    "        withoutVal, withoutToTake = maxValue(toConsider[1:], available)\n",
    "    if withVal > withoutVal:\n",
    "        result = (withVal, withToTake + (nextItem,))\n",
    "    else:\n",
    "        result = (withoutVal, withoutToTake)\n",
    "    return result"
   ]
  },
  {
   "cell_type": "code",
   "execution_count": 146,
   "metadata": {
    "collapsed": false
   },
   "outputs": [],
   "source": [
    "# # generate all combinations of N items\n",
    "# def yieldAllCombos(items):\n",
    "#     N = len(items)\n",
    "#     for i in range(3**N):\n",
    "#         bag_i = []\n",
    "#         bag_ii = []\n",
    "#         for j in range(N):\n",
    "#             if (i // (3 ** j)) % 3 == 1:\n",
    "#                 bag_i.append(items[j])\n",
    "#             elif (i // (3 ** j)) % 3 == 2:\n",
    "#                 bag_ii.append(items[j])\n",
    "#         yield bag_i, bag_ii"
   ]
  },
  {
   "cell_type": "code",
   "execution_count": 153,
   "metadata": {
    "collapsed": false
   },
   "outputs": [],
   "source": [
    "def yieldAllCombos(items):\n",
    "    N = len(items)\n",
    "    for i in range(3**N):\n",
    "        bag_i = []\n",
    "        bag_ii = []\n",
    "        for j in range(N):\n",
    "            if i % 3 == 1:\n",
    "                bag_i.append(items[j])\n",
    "            elif i % 3 == 2:\n",
    "                bag_ii.append(items[j])\n",
    "        yield bag_i, bag_ii"
   ]
  },
  {
   "cell_type": "code",
   "execution_count": 154,
   "metadata": {
    "collapsed": false
   },
   "outputs": [
    {
     "name": "stdout",
     "output_type": "stream",
     "text": [
      "([], [])\n",
      "(['a', 'b', 'c'], [])\n",
      "([], ['a', 'b', 'c'])\n",
      "([], [])\n",
      "(['a', 'b', 'c'], [])\n",
      "([], ['a', 'b', 'c'])\n",
      "([], [])\n",
      "(['a', 'b', 'c'], [])\n",
      "([], ['a', 'b', 'c'])\n",
      "([], [])\n",
      "(['a', 'b', 'c'], [])\n",
      "([], ['a', 'b', 'c'])\n",
      "([], [])\n",
      "(['a', 'b', 'c'], [])\n",
      "([], ['a', 'b', 'c'])\n",
      "([], [])\n",
      "(['a', 'b', 'c'], [])\n",
      "([], ['a', 'b', 'c'])\n",
      "([], [])\n",
      "(['a', 'b', 'c'], [])\n",
      "([], ['a', 'b', 'c'])\n",
      "([], [])\n",
      "(['a', 'b', 'c'], [])\n",
      "([], ['a', 'b', 'c'])\n",
      "([], [])\n",
      "(['a', 'b', 'c'], [])\n",
      "([], ['a', 'b', 'c'])\n"
     ]
    }
   ],
   "source": [
    "a = ['a', 'b', 'c']\n",
    "b = yieldAllCombos(a)\n",
    "for i in range(27):\n",
    "    print (b.__next__())"
   ]
  },
  {
   "cell_type": "code",
   "execution_count": 149,
   "metadata": {
    "collapsed": false
   },
   "outputs": [],
   "source": [
    "from math import log\n",
    "\n",
    "def powerset(xs):\n",
    "    result = [[]]\n",
    "    for x in xs:\n",
    "        newsubsets = [subset + [x] for subset in result]\n",
    "        result.extend(newsubsets)\n",
    "    return result\n",
    "\n",
    "def powerset2(orig, newset):\n",
    "    if orig == []:\n",
    "        return [newset]\n",
    "    else:\n",
    "        res = []\n",
    "        for s in powerset2(orig[1:], newset+[orig[0]]):\n",
    "            res.append(s)\n",
    "        for s in powerset2(orig[1:], newset):\n",
    "            res.append(s)\n",
    "        return res\n",
    "\n",
    "def powerset3(orig, newset):\n",
    "    if orig == []:\n",
    "        yield newset\n",
    "    else:\n",
    "        for s in powerset3(orig[1:], newset+[orig[0]]):\n",
    "            yield s\n",
    "        for s in powerset3(orig[1:], newset):\n",
    "            yield s\n",
    "\n",
    "def powerset4(lst):\n",
    "    if len(lst) <= 1:\n",
    "        yield lst\n",
    "        yield []\n",
    "    else:\n",
    "        for x in powerset4(lst[1:]):\n",
    "            yield [lst[0]] + x\n",
    "            yield x\n",
    "\n",
    "def powerset5(lst):\n",
    "    if lst == []:\n",
    "        yield []\n",
    "    else:\n",
    "        for s in powerset5(lst[1:]):\n",
    "            yield s + [lst[0]]\n",
    "            yield s\n",
    "\n",
    "def powerset6(lst):\n",
    "    pairs = [(2**i, x) for i, x in enumerate(lst)]\n",
    "    for i in xrange(2**len(pairs)):\n",
    "        yield [x for (mask, x) in pairs if i & mask]\n",
    "\n",
    "if __name__ == '__main__':\n",
    "    l = [1,2,3]\n",
    "\n",
    "#     print powerset(l)\n",
    "#     print powerset2(l, [])\n",
    "#     print list(powerset3(l, []))\n",
    "#     print list(powerset4(l))\n",
    "#     print list(powerset5(l))\n",
    "#     print list(powerset6(l))\n",
    "\n",
    "#     n = 8\n",
    "#     for i in range(n):\n",
    "#         b = str(bin(i))[2:]\n",
    "#         if n % 2 != 0:\n",
    "#             l = int(1.0+len(n, 2))\n",
    "#         else:\n",
    "#             l = int(log(n, 2))\n",
    "#         b = '0'*(l - len(b)) + b\n",
    "#         print b"
   ]
  },
  {
   "cell_type": "code",
   "execution_count": 162,
   "metadata": {
    "collapsed": true
   },
   "outputs": [],
   "source": [
    "def powerSet(items):\n",
    "    powerSet = [[]]\n",
    "    for i in items:\n",
    "        newSubsets = [subset + [i] for subset in powerSet]\n",
    "        print(newSubsets)\n",
    "        powerSet.extend(newSubsets)\n",
    "        print(powerSet)\n",
    "    return powerSet"
   ]
  },
  {
   "cell_type": "code",
   "execution_count": 163,
   "metadata": {
    "collapsed": false
   },
   "outputs": [
    {
     "name": "stdout",
     "output_type": "stream",
     "text": [
      "[['a']]\n",
      "[[], ['a']]\n",
      "[['b'], ['a', 'b']]\n",
      "[[], ['a'], ['b'], ['a', 'b']]\n",
      "[['c'], ['a', 'c'], ['b', 'c'], ['a', 'b', 'c']]\n",
      "[[], ['a'], ['b'], ['a', 'b'], ['c'], ['a', 'c'], ['b', 'c'], ['a', 'b', 'c']]\n"
     ]
    },
    {
     "data": {
      "text/plain": [
       "[[], ['a'], ['b'], ['a', 'b'], ['c'], ['a', 'c'], ['b', 'c'], ['a', 'b', 'c']]"
      ]
     },
     "execution_count": 163,
     "metadata": {},
     "output_type": "execute_result"
    }
   ],
   "source": [
    "a = ['a', 'b', 'c']\n",
    "b = powerSet(a)\n",
    "b"
   ]
  },
  {
   "cell_type": "code",
   "execution_count": null,
   "metadata": {
    "collapsed": true
   },
   "outputs": [],
   "source": []
  }
 ],
 "metadata": {
  "kernelspec": {
   "display_name": "Python 3",
   "language": "python",
   "name": "python3"
  },
  "language_info": {
   "codemirror_mode": {
    "name": "ipython",
    "version": 3
   },
   "file_extension": ".py",
   "mimetype": "text/x-python",
   "name": "python",
   "nbconvert_exporter": "python",
   "pygments_lexer": "ipython3",
   "version": "3.6.0"
  }
 },
 "nbformat": 4,
 "nbformat_minor": 2
}
