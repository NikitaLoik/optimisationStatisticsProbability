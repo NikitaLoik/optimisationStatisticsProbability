{
 "cells": [
  {
   "cell_type": "markdown",
   "metadata": {},
   "source": [
    "# Optimisation Background\n",
    "\n",
    "The task of optimisation is twofold:\n",
    "\n",
    "1. maximize the value\n",
    "2. keep the pay within certain constraints\n",
    "\n",
    "One option is solving a knapsack problem. Mathematically speaking:\n",
    "\n",
    "$\\sum V_i \\cdot I_i \\to max$\n",
    "\n",
    "$\\sum V_i \\cdot I_i ≤ constraint$\n",
    "\n",
    "However this algorithm is exponential."
   ]
  },
  {
   "cell_type": "code",
   "execution_count": 12,
   "metadata": {
    "collapsed": true
   },
   "outputs": [],
   "source": [
    "# Set general algorithm\n",
    "class item(object):\n",
    "    def __init__(self, name, value, cost):\n",
    "        self.name = name\n",
    "        self.value = value\n",
    "        self.cost = cost     \n",
    "    def getValue(self):\n",
    "        return self.value\n",
    "    def getCost(self):\n",
    "        return self.cost\n",
    "    def density(self):\n",
    "        return self.getValue()/self.getCost()\n",
    "    def __str__(self):\n",
    "        return self.name + \": <\" + str(self.value) + \", \" + str(self.cost) + \">\"\n",
    "    \n",
    "def optimumChoice(names, values, costs):\n",
    "    optimumSet = []\n",
    "    for i in range(len(values)):\n",
    "        optimumSet.append(item(names[i], values[i], calories[i]))\n",
    "        return optimumSet\n",
    "\n",
    "def greedy(items, costConstraint, keyFunction):\n",
    "    '''Assumes items is a list, and maxCost >= 0;\n",
    "    keyFunction maps elements of items to numbers'''\n",
    "#     sorted(list) returns a copy of a list after sorting; list.sort() — sorts the list\n",
    "    itemsCopy = sorted(items, key = keyFunction, reverse = true)\n",
    "    \n",
    "    result = []\n",
    "    totalValue, totalCost = .0, .0\n",
    "    for i in range (itemsCopy):\n",
    "        if (totalCost+itemsCopy[i].getCost()) <= costConstraint:\n",
    "            result.append(itemsCopy[i])\n",
    "            totalCost += itemsCopy[i].getCost()\n",
    "            totalValue += itemsCopy[i].getValue()\n",
    "    return (result, totalValue)\n",
    "            \n",
    "def testGreedy(items, costConstraint, keyFunction):\n",
    "    taken, value = greedy(items, costConstraint, keyFunction)\n",
    "    print(\"Total value of items take =\", value)\n",
    "    for item in taken:\n",
    "        print(\"   \", item)\n",
    "\n",
    "def testGreedies(maxUnits):\n",
    "    print(\"Use greedy by value to allocate\", maxUnits, \"calories\")\n",
    "    testGreedy(items, maxUnits, item.getValue)\n",
    "    print(\"\\nUse greedy by cost to allocate\", maxUnita, \"calories\")\n",
    "    testGreedy(items, maxUnits, lambda x:1/item.getCost(x))\n",
    "    print(\"\\nUse greedy by density to allocate\", maxUnita, \"calories\")\n",
    "    testGreedy(items, maxUnits, item.density)"
   ]
  },
  {
   "cell_type": "markdown",
   "metadata": {},
   "source": [
    "# lambda, damn lambda"
   ]
  },
  {
   "cell_type": "code",
   "execution_count": 3,
   "metadata": {
    "collapsed": false
   },
   "outputs": [
    {
     "data": {
      "text/plain": [
       "3"
      ]
     },
     "execution_count": 3,
     "metadata": {},
     "output_type": "execute_result"
    }
   ],
   "source": [
    "f1 = lambda x: x\n",
    "f1(3)"
   ]
  },
  {
   "cell_type": "code",
   "execution_count": 4,
   "metadata": {
    "collapsed": false
   },
   "outputs": [
    {
     "data": {
      "text/plain": [
       "'Ana'"
      ]
     },
     "execution_count": 4,
     "metadata": {},
     "output_type": "execute_result"
    }
   ],
   "source": [
    "f1('Ana')"
   ]
  },
  {
   "cell_type": "code",
   "execution_count": 5,
   "metadata": {
    "collapsed": true
   },
   "outputs": [],
   "source": [
    "f2 = lambda x,y: x+y"
   ]
  },
  {
   "cell_type": "code",
   "execution_count": 6,
   "metadata": {
    "collapsed": false
   },
   "outputs": [
    {
     "data": {
      "text/plain": [
       "5"
      ]
     },
     "execution_count": 6,
     "metadata": {},
     "output_type": "execute_result"
    }
   ],
   "source": [
    "f2(2, 3)"
   ]
  },
  {
   "cell_type": "code",
   "execution_count": 7,
   "metadata": {
    "collapsed": false
   },
   "outputs": [
    {
     "data": {
      "text/plain": [
       "'AnaBell'"
      ]
     },
     "execution_count": 7,
     "metadata": {},
     "output_type": "execute_result"
    }
   ],
   "source": [
    "f2('Ana', 'Bell')"
   ]
  },
  {
   "cell_type": "code",
   "execution_count": 9,
   "metadata": {
    "collapsed": false
   },
   "outputs": [],
   "source": [
    "f3 = lambda x,y: 'factor' if (x%y==0) else 'not factor'"
   ]
  },
  {
   "cell_type": "code",
   "execution_count": 10,
   "metadata": {
    "collapsed": false
   },
   "outputs": [
    {
     "data": {
      "text/plain": [
       "'factor'"
      ]
     },
     "execution_count": 10,
     "metadata": {},
     "output_type": "execute_result"
    }
   ],
   "source": [
    "f3(4,2)"
   ]
  },
  {
   "cell_type": "code",
   "execution_count": 11,
   "metadata": {
    "collapsed": false
   },
   "outputs": [
    {
     "data": {
      "text/plain": [
       "'not factor'"
      ]
     },
     "execution_count": 11,
     "metadata": {},
     "output_type": "execute_result"
    }
   ],
   "source": [
    "f3(3,4)"
   ]
  },
  {
   "cell_type": "code",
   "execution_count": null,
   "metadata": {
    "collapsed": true
   },
   "outputs": [],
   "source": []
  }
 ],
 "metadata": {
  "kernelspec": {
   "display_name": "Python 3",
   "language": "python",
   "name": "python3"
  },
  "language_info": {
   "codemirror_mode": {
    "name": "ipython",
    "version": 3
   },
   "file_extension": ".py",
   "mimetype": "text/x-python",
   "name": "python",
   "nbconvert_exporter": "python",
   "pygments_lexer": "ipython3",
   "version": "3.6.0"
  }
 },
 "nbformat": 4,
 "nbformat_minor": 2
}
