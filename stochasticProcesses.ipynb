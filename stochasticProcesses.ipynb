{
 "cells": [
  {
   "cell_type": "code",
   "execution_count": 1,
   "metadata": {
    "collapsed": true
   },
   "outputs": [],
   "source": [
    "import random"
   ]
  },
  {
   "cell_type": "code",
   "execution_count": 3,
   "metadata": {
    "collapsed": true
   },
   "outputs": [],
   "source": [
    "def rollDie():\n",
    "    '''\n",
    "    returns a random int between 1 and 6\n",
    "    '''\n",
    "    return random.choice([1,2,3,4,5,6])\n",
    "\n",
    "def testRoll(n=10):\n",
    "    result = \"\"\n",
    "    for i in range(n):\n",
    "        result = result + str(rollDie())\n",
    "    print(result)"
   ]
  },
  {
   "cell_type": "code",
   "execution_count": 20,
   "metadata": {
    "collapsed": false
   },
   "outputs": [
    {
     "name": "stdout",
     "output_type": "stream",
     "text": [
      "80\t0\t50\t64\t30\t40\t4\t94\t60\t90\t34\t72\t44\t16\t74\t90\t74\t58\t76\t44\t60\t32\t48\t34\t14\t88\t20\t28\t36\t24\t90\t58\t94\t20\t36\t72\t58\t40\t82\t82\t36\t2\t44\t42\t40\t\n"
     ]
    }
   ],
   "source": [
    "def genEven():\n",
    "    '''\n",
    "    returns a random even number x, where 0 <= x < 100\n",
    "    '''\n",
    "    while True:\n",
    "        x = random.choice(range(100))\n",
    "        if x%2 == 0:\n",
    "            return x\n",
    "\n",
    "def testGetEven(n=10):\n",
    "    result = \"\"\n",
    "    for i in range(n):\n",
    "        result = result + str(genEven()) +\"\\t\"\n",
    "    print(result)\n",
    "    \n",
    "testGetEven(n=45)"
   ]
  },
  {
   "cell_type": "code",
   "execution_count": 23,
   "metadata": {
    "collapsed": false
   },
   "outputs": [
    {
     "name": "stdout",
     "output_type": "stream",
     "text": [
      "20\t20\t20\t20\t16\t16\t20\t12\t12\t10\t12\t16\t12\t20\t16\t14\t10\t12\t12\t20\t14\t16\t12\t12\t20\t12\t20\t20\t18\t20\t10\t20\t18\t12\t12\t18\t18\t10\t12\t16\t10\t20\t20\t16\t12\t\n"
     ]
    }
   ],
   "source": [
    "def stochasticNumber():\n",
    "    '''\n",
    "    stochastically generates and returns a uniformly distributed even number between 9 and 21\n",
    "    '''\n",
    "    while True:\n",
    "        x = random.randint(9,21)\n",
    "        if x%2 == 0:\n",
    "            return x\n",
    "        \n",
    "def testStochasticNumber(n=10):\n",
    "    result = \"\"\n",
    "    for i in range(n):\n",
    "        result = result + str(stochasticNumber()) +\"\\t\"\n",
    "    print(result)\n",
    "    \n",
    "testStochasticNumber(n=45)"
   ]
  },
  {
   "cell_type": "code",
   "execution_count": 32,
   "metadata": {
    "collapsed": false
   },
   "outputs": [
    {
     "name": "stdout",
     "output_type": "stream",
     "text": [
      "Actual probability = 0.0001286\n",
      "Estimated probability = 0.000123\n"
     ]
    }
   ],
   "source": [
    "def runSimulation(goal, nTrials):\n",
    "    total=0\n",
    "    for i in range(nTrials):\n",
    "        result = \"\"\n",
    "        for j in range(len(goal)):\n",
    "            result += str(rollDie())\n",
    "        if result == goal:\n",
    "            total += 1\n",
    "    print(\"Actual probability =\", round(1/(6**len(goal)), 8))\n",
    "    estProbability = round(total/nTrials, 8)\n",
    "    print(\"Estimated probability =\", round(estProbability, 8))\n",
    "\n",
    "runSimulation('11111', 1000000)"
   ]
  },
  {
   "cell_type": "code",
   "execution_count": null,
   "metadata": {
    "collapsed": true
   },
   "outputs": [],
   "source": []
  }
 ],
 "metadata": {
  "kernelspec": {
   "display_name": "Python 3",
   "language": "python",
   "name": "python3"
  },
  "language_info": {
   "codemirror_mode": {
    "name": "ipython",
    "version": 3
   },
   "file_extension": ".py",
   "mimetype": "text/x-python",
   "name": "python",
   "nbconvert_exporter": "python",
   "pygments_lexer": "ipython3",
   "version": "3.6.0"
  }
 },
 "nbformat": 4,
 "nbformat_minor": 2
}
