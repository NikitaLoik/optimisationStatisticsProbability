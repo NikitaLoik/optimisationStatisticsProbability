{
 "cells": [
  {
   "cell_type": "code",
   "execution_count": 1,
   "metadata": {
    "collapsed": false
   },
   "outputs": [],
   "source": [
    "class Node(object):\n",
    "    def __init__(self, name):\n",
    "        '''assumes name is a string'''\n",
    "        self.name = name\n",
    "    def getName(self):\n",
    "        return self.name\n",
    "    def __str__(self):\n",
    "        return  self.name\n",
    "\n",
    "class Edge(object):\n",
    "    def __init__(self, start, end):\n",
    "        '''assumes start (origin of the node) and end (destination of the node) are nodes'''\n",
    "        self.start = start\n",
    "        self.end = end\n",
    "    def getStart(self):\n",
    "        return self.start\n",
    "    def getEnd(self):\n",
    "        return self.end\n",
    "    def __str__(self):\n",
    "        return self.start.getName() + \"->\" + self.end.getName()\n",
    "    \n",
    "class WeightedEdge(Edge):\n",
    "    def __init__(self, src, dest, weight):\n",
    "        self.start = start\n",
    "        self.end = end\n",
    "        self.weight = weight\n",
    "    def getWeight(self):\n",
    "        return self.weight\n",
    "    def __str__(self):\n",
    "        return self.start.getName() + \"->\" + str(self.end.getName()) + \"(\" + self.getWeight() + \")\"\n",
    "    \n",
    "class Digraph(object):\n",
    "    '''edges is a dictionary mpping each node to a list of its children'''\n",
    "    def __init__(self):\n",
    "        self.edges = {}\n",
    "    \n",
    "    def addNode(self, node):\n",
    "        if node in self.edges:\n",
    "            raise ValueError(\"Duplicated node\")\n",
    "        else:\n",
    "            self.edges[node] = []\n",
    "    \n",
    "    def addEdge(self, edge):\n",
    "        start = edge.getStart()\n",
    "        end = edge.getEnd()\n",
    "        if not (start in self.edges and end in self.edges):\n",
    "            raise ValueError(\"Node not in graph\")\n",
    "        self.edges[start].append(end)\n",
    "        \n",
    "    def childrenOf(self, node):\n",
    "        return self.edges[node]\n",
    "    \n",
    "    def hasNode(self, node):\n",
    "        return node in self.edges\n",
    "    \n",
    "    def getNode(self, name):\n",
    "        for n in self.edges:\n",
    "            if n.getName() == name:\n",
    "                return n\n",
    "        raise NameError(name)\n",
    "        \n",
    "    def __str__(self):\n",
    "        result = ''\n",
    "        for start in self.edges:\n",
    "            for end in self.edges[start]:\n",
    "                result = result + start.getName() + \"->\" + end.getName() + \"\\n\"\n",
    "        return result[:-1] # omits final new line\n",
    "\n",
    "class Graph(Digraph):\n",
    "    def addEdge(self, edge):\n",
    "        Digraph.addEdge(self, edge)\n",
    "        rev = Edge(edge.getEnd(), edge.getStart())\n",
    "        Digraph.addEdge(self, rev)"
   ]
  },
  {
   "cell_type": "code",
   "execution_count": 2,
   "metadata": {
    "collapsed": true
   },
   "outputs": [],
   "source": [
    "nodes = []\n",
    "nodes.append(Node(\"ABC\")) # nodes[0]\n",
    "nodes.append(Node(\"ACB\")) # nodes[1]\n",
    "nodes.append(Node(\"BAC\")) # nodes[2]\n",
    "nodes.append(Node(\"BCA\")) # nodes[3]\n",
    "nodes.append(Node(\"CAB\")) # nodes[4]\n",
    "nodes.append(Node(\"CBA\")) # nodes[5]"
   ]
  },
  {
   "cell_type": "code",
   "execution_count": 3,
   "metadata": {
    "collapsed": false
   },
   "outputs": [
    {
     "name": "stdout",
     "output_type": "stream",
     "text": [
      "<class 'str'>\n",
      "<class 'str'>\n",
      "<class 'str'>\n",
      "<class 'str'>\n",
      "<class 'str'>\n",
      "<class 'str'>\n"
     ]
    }
   ],
   "source": [
    "g = Graph()\n",
    "for n in nodes:\n",
    "    print(type(n.getName()))\n",
    "    g.addNode(n)\n",
    "\n"
   ]
  },
  {
   "cell_type": "code",
   "execution_count": 4,
   "metadata": {
    "collapsed": false
   },
   "outputs": [
    {
     "data": {
      "text/plain": [
       "<__main__.Node at 0x106aef828>"
      ]
     },
     "execution_count": 4,
     "metadata": {},
     "output_type": "execute_result"
    }
   ],
   "source": [
    "g.getNode('BAC')"
   ]
  },
  {
   "cell_type": "code",
   "execution_count": 5,
   "metadata": {
    "collapsed": false
   },
   "outputs": [],
   "source": [
    "# fairly agly solution to a problem\n",
    "for i, n in enumerate(nodes):\n",
    "    node = n.getName()\n",
    "    ends = []\n",
    "    for j in range(len(node)-1):\n",
    "        letters = list(node)\n",
    "        letters[j], letters[j+1] = letters[j+1], letters[j]\n",
    "        child = ''.join(letters)\n",
    "        if child not in [c.getName() for c in g.childrenOf(nodes[i])]:\n",
    "            newEdge = Edge(g.getNode(node), g.getNode(child))\n",
    "            g.addEdge(newEdge)"
   ]
  },
  {
   "cell_type": "code",
   "execution_count": 6,
   "metadata": {
    "collapsed": false
   },
   "outputs": [
    {
     "data": {
      "text/plain": [
       "['BAC', 'ACB']"
      ]
     },
     "execution_count": 6,
     "metadata": {},
     "output_type": "execute_result"
    }
   ],
   "source": [
    "[c.getName() for c in g.childrenOf(nodes[0])]"
   ]
  },
  {
   "cell_type": "code",
   "execution_count": 7,
   "metadata": {
    "collapsed": false
   },
   "outputs": [
    {
     "name": "stdout",
     "output_type": "stream",
     "text": [
      "ABC->BAC\n",
      "ABC->ACB\n",
      "ACB->ABC\n",
      "ACB->CAB\n",
      "BAC->ABC\n",
      "BAC->BCA\n",
      "BCA->BAC\n",
      "BCA->CBA\n",
      "CAB->ACB\n",
      "CAB->CBA\n",
      "CBA->BCA\n",
      "CBA->CAB\n"
     ]
    }
   ],
   "source": [
    "print(g.__str__())"
   ]
  },
  {
   "cell_type": "code",
   "execution_count": 8,
   "metadata": {
    "collapsed": false
   },
   "outputs": [
    {
     "data": {
      "text/plain": [
       "\"['a', 'b', 'c']\""
      ]
     },
     "execution_count": 8,
     "metadata": {},
     "output_type": "execute_result"
    }
   ],
   "source": [
    "str(['a', 'b', 'c'])"
   ]
  },
  {
   "cell_type": "code",
   "execution_count": 9,
   "metadata": {
    "collapsed": false
   },
   "outputs": [
    {
     "name": "stdout",
     "output_type": "stream",
     "text": [
      "['a', 'b', 'c']\n",
      "bac\n"
     ]
    }
   ],
   "source": [
    "string = 'abc'\n",
    "a = list(string)\n",
    "print(a)\n",
    "a[0], a[1] = a[1], a[0]\n",
    "print (''.join(a))"
   ]
  },
  {
   "cell_type": "code",
   "execution_count": 10,
   "metadata": {
    "collapsed": false
   },
   "outputs": [
    {
     "name": "stdout",
     "output_type": "stream",
     "text": [
      "['bac']\n",
      "['bac', 'acb']\n"
     ]
    }
   ],
   "source": [
    "n = 'abc'\n",
    "ends = []\n",
    "for i in range(len(n)-1):\n",
    "    a = list(n)\n",
    "    a[i], a[i+1] = a[i+1], a[i]\n",
    "    ends += [''.join(a)]\n",
    "    print (ends)"
   ]
  },
  {
   "cell_type": "code",
   "execution_count": null,
   "metadata": {
    "collapsed": true
   },
   "outputs": [],
   "source": []
  },
  {
   "cell_type": "code",
   "execution_count": null,
   "metadata": {
    "collapsed": true
   },
   "outputs": [],
   "source": []
  }
 ],
 "metadata": {
  "kernelspec": {
   "display_name": "Python 3",
   "language": "python",
   "name": "python3"
  },
  "language_info": {
   "codemirror_mode": {
    "name": "ipython",
    "version": 3
   },
   "file_extension": ".py",
   "mimetype": "text/x-python",
   "name": "python",
   "nbconvert_exporter": "python",
   "pygments_lexer": "ipython3",
   "version": "3.6.0"
  }
 },
 "nbformat": 4,
 "nbformat_minor": 2
}
