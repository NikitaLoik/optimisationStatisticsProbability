{
 "cells": [
  {
   "cell_type": "code",
   "execution_count": null,
   "metadata": {
    "collapsed": true
   },
   "outputs": [],
   "source": [
    "def powerSet(items):\n",
    "    powerSet = [[]]\n",
    "    for i in items:\n",
    "        newSubsets = [subset + [i] for subset in powerSet]\n",
    "        print(newSubsets)\n",
    "        powerSet.extend(newSubsets)\n",
    "        print(powerSet)\n",
    "    return powerSet"
   ]
  }
 ],
 "metadata": {
  "kernelspec": {
   "display_name": "Python 3",
   "language": "python",
   "name": "python3"
  },
  "language_info": {
   "codemirror_mode": {
    "name": "ipython",
    "version": 3
   },
   "file_extension": ".py",
   "mimetype": "text/x-python",
   "name": "python",
   "nbconvert_exporter": "python",
   "pygments_lexer": "ipython3",
   "version": "3.6.0"
  }
 },
 "nbformat": 4,
 "nbformat_minor": 2
}
