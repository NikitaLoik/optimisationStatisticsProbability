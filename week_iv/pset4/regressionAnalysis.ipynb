{
 "cells": [
  {
   "cell_type": "code",
   "execution_count": 1,
   "metadata": {
    "collapsed": true
   },
   "outputs": [],
   "source": [
    "import numpy as np\n",
    "import pylab\n",
    "import re"
   ]
  },
  {
   "cell_type": "code",
   "execution_count": 2,
   "metadata": {
    "collapsed": true
   },
   "outputs": [],
   "source": [
    "# cities in our weather data\n",
    "CITIES = [\n",
    "    'BOSTON',\n",
    "    'SEATTLE',\n",
    "    'SAN DIEGO',\n",
    "    'PHILADELPHIA',\n",
    "    'PHOENIX',\n",
    "    'LAS VEGAS',\n",
    "    'CHARLOTTE',\n",
    "    'DALLAS',\n",
    "    'BALTIMORE',\n",
    "    'SAN JUAN',\n",
    "    'LOS ANGELES',\n",
    "    'MIAMI',\n",
    "    'NEW ORLEANS',\n",
    "    'ALBUQUERQUE',\n",
    "    'PORTLAND',\n",
    "    'SAN FRANCISCO',\n",
    "    'TAMPA',\n",
    "    'NEW YORK',\n",
    "    'DETROIT',\n",
    "    'ST LOUIS',\n",
    "    'CHICAGO'\n",
    "]\n",
    "\n",
    "INTERVAL_1 = list(range(1961, 2006))\n",
    "INTERVAL_2 = list(range(2006, 2016))\n",
    "\n"
   ]
  },
  {
   "cell_type": "code",
   "execution_count": 3,
   "metadata": {
    "collapsed": true
   },
   "outputs": [],
   "source": [
    "class Climate(object):\n",
    "    \"\"\"\n",
    "    The collection of temperature records loaded from given csv file\n",
    "    \"\"\"\n",
    "    def __init__(self, filename):\n",
    "        \"\"\"\n",
    "        Initialize a Climate instance, which stores the temperature records\n",
    "        loaded from a given csv file specified by filename.\n",
    "\n",
    "        Args:\n",
    "            filename: name of the csv file (str)\n",
    "        \"\"\"\n",
    "        self.rawdata = {}\n",
    "\n",
    "        f = open(filename, 'r')\n",
    "        header = f.readline().strip().split(',')\n",
    "        for line in f:\n",
    "            items = line.strip().split(',')\n",
    "\n",
    "            date = re.match('(\\d\\d\\d\\d)(\\d\\d)(\\d\\d)', items[header.index('DATE')])\n",
    "            year = int(date.group(1))\n",
    "            month = int(date.group(2))\n",
    "            day = int(date.group(3))\n",
    "\n",
    "            city = items[header.index('CITY')]\n",
    "            temperature = float(items[header.index('TEMP')])\n",
    "            if city not in self.rawdata:\n",
    "                self.rawdata[city] = {}\n",
    "            if year not in self.rawdata[city]:\n",
    "                self.rawdata[city][year] = {}\n",
    "            if month not in self.rawdata[city][year]:\n",
    "                self.rawdata[city][year][month] = {}\n",
    "            self.rawdata[city][year][month][day] = temperature\n",
    "            \n",
    "        f.close()\n",
    "\n",
    "    def get_yearly_temp(self, city, year):\n",
    "        \"\"\"\n",
    "        Get the daily temperatures for the given year and city.\n",
    "\n",
    "        Args:\n",
    "            city: city name (str)\n",
    "            year: the year to get the data for (int)\n",
    "\n",
    "        Returns:\n",
    "            a numpy 1-d array of daily temperatures for the specified year and\n",
    "            city\n",
    "        \"\"\"\n",
    "        temperatures = []\n",
    "        assert city in self.rawdata, \"provided city is not available\"\n",
    "        assert year in self.rawdata[city], \"provided year is not available\"\n",
    "        for month in range(1, 13):\n",
    "            for day in range(1, 32):\n",
    "                if day in self.rawdata[city][year][month]:\n",
    "                    temperatures.append(self.rawdata[city][year][month][day])\n",
    "        return np.array(temperatures)\n",
    "\n",
    "    def get_daily_temp(self, city, month, day, year):\n",
    "        \"\"\"\n",
    "        Get the daily temperature for the given city and time (year + date).\n",
    "\n",
    "        Args:\n",
    "            city: city name (str)\n",
    "            month: the month to get the data for (int, where January = 1,\n",
    "                December = 12)\n",
    "            day: the day to get the data for (int, where 1st day of month = 1)\n",
    "            year: the year to get the data for (int)\n",
    "\n",
    "        Returns:\n",
    "            a float of the daily temperature for the specified time (year +\n",
    "            date) and city\n",
    "        \"\"\"\n",
    "        assert city in self.rawdata, \"provided city is not available\"\n",
    "        assert year in self.rawdata[city], \"provided year is not available\"\n",
    "        assert month in self.rawdata[city][year], \"provided month is not available\"\n",
    "        assert day in self.rawdata[city][year][month], \"provided day is not available\"\n",
    "        return self.rawdata[city][year][month][day]"
   ]
  },
  {
   "cell_type": "code",
   "execution_count": 4,
   "metadata": {
    "collapsed": true
   },
   "outputs": [],
   "source": [
    "# Problem 1\n",
    "def generate_models(x, y, degs):\n",
    "    \"\"\"\n",
    "    Generate regression models by fitting a polynomial for each degree in degs\n",
    "    to points (x, y).\n",
    "    Args:\n",
    "        x: a list with length N, representing the x-coords of N sample points\n",
    "        y: a list with length N, representing the y-coords of N sample points\n",
    "        degs: a list of degrees of the fitting polynomial\n",
    "    Returns:\n",
    "        a list of numpy arrays, where each array is a 1-d array of coefficients\n",
    "        that minimizes the squared error of the fitting polynomial\n",
    "    \"\"\"\n",
    "    fittingParameters = []\n",
    "    for d in degs:\n",
    "        newFitting = np.polyfit(x, y, d)\n",
    "        fittingParameters += [newFitting]\n",
    "    return fittingParameters"
   ]
  },
  {
   "cell_type": "code",
   "execution_count": 5,
   "metadata": {
    "collapsed": true
   },
   "outputs": [],
   "source": [
    "# Problem 2\n",
    "def r_squared(y, estimated):\n",
    "    \"\"\"\n",
    "    Calculate the R-squared error term.\n",
    "    Args:\n",
    "        y: list with length N, representing the y-coords of N sample points\n",
    "        estimated: a list of values estimated by the regression model\n",
    "    Returns:\n",
    "        a float for the R-squared error term\n",
    "    \"\"\"\n",
    "    # TODO\n",
    "    \n",
    "    r_squared = 1-(np.sum((np.array(y)-np.array(estimated))**2)/np.sum((np.array(y)-np.mean(np.array(y)))**2))\n",
    "    return r_squared"
   ]
  },
  {
   "cell_type": "code",
   "execution_count": 20,
   "metadata": {
    "collapsed": true
   },
   "outputs": [],
   "source": [
    "# Problem 3\n",
    "def evaluate_models_on_training(x, y, models):\n",
    "    \"\"\"\n",
    "    For each regression model, compute the R-square for this model with the\n",
    "    standard error over slope of a linear regression line (only if the model is\n",
    "    linear), and plot the data along with the best fit curve.\n",
    "\n",
    "    For the plots, you should plot data points (x,y) as blue dots and your best\n",
    "    fit curve (aka model) as a red solid line. You should also label the axes\n",
    "    of this figure appropriately and have a title reporting the following\n",
    "    information:\n",
    "        degree of your regression model,\n",
    "        R-square of your model evaluated on the given data points\n",
    "    Args:\n",
    "        x: a list of length N, representing the x-coords of N sample points\n",
    "        y: a list of length N, representing the y-coords of N sample points\n",
    "        models: a list containing the regression models you want to apply to\n",
    "            your data. Each model is a numpy array storing the coefficients of\n",
    "            a polynomial.\n",
    "    Returns:\n",
    "        None\n",
    "    \"\"\"\n",
    "    for model in models:\n",
    "        print(model)\n",
    "        X = np.array(x).reshape(len(x), -1)\n",
    "        for i in range(model.shape[0]-2):\n",
    "            X = np.insert(X, X.shape[1], (np.array(x))**(i+2), axis=1)\n",
    "        X = np.insert(X, X.shape[1], 1, axis=1)\n",
    "        e = np.dot(X, model)\n",
    "        rSquared = r_squared(y, e)\n",
    "        pylab.plot(x, y, 'bo')\n",
    "        pylab.plot(x, e, 'r-')\n",
    "        pylab.xlabel(\"X\")\n",
    "        pylab.ylabel(\"Y\")\n",
    "        pylab.title(\"regression analysis using polynomial {0} \\n R {1:.3f}.\".format((model.shape[0]-1), rSquared))\n",
    "        pylab.show()"
   ]
  },
  {
   "cell_type": "code",
   "execution_count": 21,
   "metadata": {
    "collapsed": false
   },
   "outputs": [
    {
     "name": "stdout",
     "output_type": "stream",
     "text": [
      "[ 7. -7.]\n"
     ]
    },
    {
     "data": {
      "image/png": "[encoded data removed]",
      "text/plain": [
       "<matplotlib.figure.Figure at 0x11c6e0ac8>"
      ]
     },
     "metadata": {},
     "output_type": "display_data"
    },
    {
     "name": "stdout",
     "output_type": "stream",
     "text": [
      "[  1.00000000e+00   1.00000000e+00   4.59096988e-14]\n"
     ]
    },
    {
     "data": {
      "image/png": "[encoded data removed]",
      "text/plain": [
       "<matplotlib.figure.Figure at 0x11b55c320>"
      ]
     },
     "metadata": {},
     "output_type": "display_data"
    }
   ],
   "source": [
    "x = [1,2,3,4,5]\n",
    "y = [2,6,12,20,30]\n",
    "degs = [1, 2]\n",
    "models = generate_models(x, y, degs)\n",
    "for model in models:\n",
    "    print(model)\n",
    "    X = np.array(x).reshape(len(x), -1)\n",
    "    for i in range(model.shape[0]-2):\n",
    "        X = np.insert(X, X.shape[1], (np.array(x))**(i+2), axis=1)\n",
    "    X = np.insert(X, X.shape[1], 1, axis=1)\n",
    "    e = np.dot(X, model)\n",
    "    rSquared = r_squared(y, e)\n",
    "    pylab.plot(x, y, 'bo')\n",
    "    pylab.plot(x, e, 'r-')\n",
    "    pylab.xlabel(\"X\")\n",
    "    pylab.ylabel(\"Y\")\n",
    "    pylab.title(\"regression analysis using polynomial {0} \\n R {1:.3f}.\".format((model.shape[0]-1), rSquared))\n",
    "    pylab.show()"
   ]
  },
  {
   "cell_type": "code",
   "execution_count": 22,
   "metadata": {
    "collapsed": false
   },
   "outputs": [
    {
     "data": {
      "text/plain": [
       "array([[ 1,  1,  1],\n",
       "       [ 2,  4,  1],\n",
       "       [ 3,  9,  1],\n",
       "       [ 4, 16,  1],\n",
       "       [ 5, 25,  1]])"
      ]
     },
     "execution_count": 22,
     "metadata": {},
     "output_type": "execute_result"
    }
   ],
   "source": [
    "X"
   ]
  },
  {
   "cell_type": "code",
   "execution_count": 23,
   "metadata": {
    "collapsed": false
   },
   "outputs": [
    {
     "data": {
      "text/plain": [
       "array([[ 1,  1,  1,  1],\n",
       "       [ 1,  2,  4,  1],\n",
       "       [ 1,  3,  9,  1],\n",
       "       [ 1,  4, 16,  1],\n",
       "       [ 1,  5, 25,  1]])"
      ]
     },
     "execution_count": 23,
     "metadata": {},
     "output_type": "execute_result"
    }
   ],
   "source": [
    "np.insert(X, 0, 1, axis=1)"
   ]
  },
  {
   "cell_type": "code",
   "execution_count": 24,
   "metadata": {
    "collapsed": true
   },
   "outputs": [],
   "source": [
    "for i in range(0):\n",
    "    print(i)"
   ]
  },
  {
   "cell_type": "code",
   "execution_count": 25,
   "metadata": {
    "collapsed": false
   },
   "outputs": [
    {
     "name": "stdout",
     "output_type": "stream",
     "text": [
      "[  3.02503294e-02  -6.22341809e+01]\n"
     ]
    },
    {
     "data": {
      "image/png": "[encoded data removed]",
      "text/plain": [
       "<matplotlib.figure.Figure at 0x1180ee358>"
      ]
     },
     "metadata": {},
     "output_type": "display_data"
    }
   ],
   "source": [
    "# Problem 3\n",
    "raw_data = Climate('data.csv')\n",
    "y = []\n",
    "x = INTERVAL_1\n",
    "for year in INTERVAL_1:\n",
    "    y.append(raw_data.get_daily_temp('BOSTON', 1, 10, year))\n",
    "models = generate_models(x, y, [1])\n",
    "evaluate_models_on_training(x, y, models)"
   ]
  },
  {
   "cell_type": "code",
   "execution_count": 27,
   "metadata": {
    "collapsed": false
   },
   "outputs": [
    {
     "name": "stdout",
     "output_type": "stream",
     "text": [
      "[  1.30416126e-02  -1.50717381e+01]\n"
     ]
    },
    {
     "data": {
      "image/png": "[encoded data removed]",
      "text/plain": [
       "<matplotlib.figure.Figure at 0x11b530048>"
      ]
     },
     "metadata": {},
     "output_type": "display_data"
    }
   ],
   "source": [
    "# Problem 4: FILL IN MISSING CODE TO GENERATE y VALUES\n",
    "x1 = INTERVAL_1\n",
    "x2 = INTERVAL_2\n",
    "y = []\n",
    "for year in INTERVAL_1:\n",
    "    y.append(np.mean(raw_data.get_yearly_temp('BOSTON', year)))\n",
    "models = generate_models(x, y, [1])    \n",
    "evaluate_models_on_training(x, y, models)"
   ]
  },
  {
   "cell_type": "code",
   "execution_count": null,
   "metadata": {
    "collapsed": true
   },
   "outputs": [],
   "source": []
  }
 ],
 "metadata": {
  "kernelspec": {
   "display_name": "Python 3",
   "language": "python",
   "name": "python3"
  },
  "language_info": {
   "codemirror_mode": {
    "name": "ipython",
    "version": 3
   },
   "file_extension": ".py",
   "mimetype": "text/x-python",
   "name": "python",
   "nbconvert_exporter": "python",
   "pygments_lexer": "ipython3",
   "version": "3.6.0"
  }
 },
 "nbformat": 4,
 "nbformat_minor": 2
}
