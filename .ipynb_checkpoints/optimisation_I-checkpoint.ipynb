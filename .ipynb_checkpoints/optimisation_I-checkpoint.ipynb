{
 "cells": [
  {
   "cell_type": "markdown",
   "metadata": {},
   "source": [
    "# Optimisation Background\n",
    "\n",
    "The task of optimisation is twofold:\n",
    "\n",
    "1. maximize the value\n",
    "2. keep the pay within certain constraints\n",
    "\n",
    "One option is solving a knapsack problem. Mathematically speaking:\n",
    "\n",
    "$\\sum V_i \\cdot I_i \\to max$\n",
    "\n",
    "$\\sum V_i \\cdot I_i ≤ constraint$\n",
    "\n",
    "However this algorithm is exponential."
   ]
  },
  {
   "cell_type": "code",
   "execution_count": 2,
   "metadata": {
    "collapsed": true
   },
   "outputs": [],
   "source": [
    "# Set general algorithm\n",
    "class item(object):\n",
    "    def __init__(self, name, value, cost):\n",
    "        self.name = name\n",
    "        self.value = value\n",
    "        self.cost = cost     \n",
    "    def getValue(self):\n",
    "        return self.value\n",
    "    def getCost(self):\n",
    "        return self.cost\n",
    "    def density(self):\n",
    "        return self.getValue()/self.getCost()\n",
    "    def __str__(self):\n",
    "        return self.name + \": <\" + str(self.value) + \", \" + str(self.cost) + \">\"\n",
    "    \n",
    "def optimumChoice(names, values, costs):\n",
    "    optimumSet = []\n",
    "    for i in range(len(values)):\n",
    "        optimumSet.append(item(names[i], values[i], calories[i]))\n",
    "        return optimumSet\n",
    "\n",
    "def greedy(items, costConstraint, keyFunction):\n",
    "    '''Assumes items is a list, and maxCost >= 0;\n",
    "    keyFunction maps elements of items to numbers'''\n",
    "#     sorted(list) returns a copy of a list after sorting; list.sort() — sorts the list\n",
    "    itemsCopy = sorted(items, key = keyFunction, reverse = true)\n",
    "    \n",
    "    result = []\n",
    "    totalValue, totalCost = .0, .0\n",
    "    for i in range (itemsCopy):\n",
    "        if (totalCost+itemsCopy[i].getCost()) <= costConstraint:\n",
    "            result.append(itemsCopy[i])\n",
    "            totalCost += itemsCopy[i].getCost()\n",
    "            totalValue += itemsCopy[i].getValue()\n",
    "    return (result, totalValue)\n",
    "            \n",
    "def testGreedy(items, costConstraint, keyFunction):\n",
    "    taken, value = greedy(items, costConstraint, keyFunction)\n",
    "    print(\"Total value of items take =\", value)\n",
    "    for item in taken:\n",
    "        print(\"   \", item)"
   ]
  },
  {
   "cell_type": "code",
   "execution_count": null,
   "metadata": {
    "collapsed": true
   },
   "outputs": [],
   "source": []
  }
 ],
 "metadata": {
  "kernelspec": {
   "display_name": "Python 3",
   "language": "python",
   "name": "python3"
  },
  "language_info": {
   "codemirror_mode": {
    "name": "ipython",
    "version": 3
   },
   "file_extension": ".py",
   "mimetype": "text/x-python",
   "name": "python",
   "nbconvert_exporter": "python",
   "pygments_lexer": "ipython3",
   "version": "3.6.0"
  }
 },
 "nbformat": 4,
 "nbformat_minor": 2
}
