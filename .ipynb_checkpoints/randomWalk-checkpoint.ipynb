{
 "cells": [
  {
   "cell_type": "code",
   "execution_count": 2,
   "metadata": {
    "collapsed": true
   },
   "outputs": [],
   "source": [
    "import random"
   ]
  },
  {
   "cell_type": "code",
   "execution_count": 1,
   "metadata": {
    "collapsed": true
   },
   "outputs": [],
   "source": [
    "class Location(object):\n",
    "    def __init__(self, x, y):\n",
    "        '''x and y are floats'''\n",
    "        self.x = x\n",
    "        self.y = y\n",
    "        \n",
    "    def move(self, deltaX, deltaY):\n",
    "        '''deltaX and deltaY are floats'''\n",
    "        return Location(self.x+deltaX, self.y+deltaY)\n",
    "    \n",
    "    def getX(self):\n",
    "        return self.x\n",
    "    def getY(self):\n",
    "        return self.y\n",
    "    \n",
    "    def distanceFrom(self, other):\n",
    "        ox = other.x\n",
    "        oy = other.y\n",
    "        xDist = self.x - ox\n",
    "        yDist = self.y - oy\n",
    "        return (xDist**2 + yDist**2)**0.5\n",
    "    \n",
    "    def __str__(self):\n",
    "        return \"<\" + str(self.x) + \", \" + str(self.y) + \">\"\n",
    "\n",
    "class Field(object):\n",
    "    def __init__(self):\n",
    "        self.drunks = {}\n",
    "        \n",
    "    def addDrunk(self, drunk, location):\n",
    "        if drunk in self.drunks:\n",
    "            raise ValueError (\"Duplicate Drunk\")\n",
    "        else:\n",
    "            self.drunks[drunk] = location\n",
    "    def getLocation(self, drunk):\n",
    "        if drunk not in self.drunks:\n",
    "            raise ValueError(\"Drunk no in field\")\n",
    "        return self.drunks[drunk]\n",
    "    \n",
    "    def moveDrunk(self, drunk):\n",
    "        if drunk not in self.drunks:\n",
    "            raise ValueError(\"Drunk not in field\")\n",
    "        xDist, yDist = drunk.takeStep()\n",
    "        currentLocation = self.drunks[drunk]\n",
    "#         use move mthod of Location to get new location\n",
    "        self.drunks[drunk] = currentLocation.move(xDist, yDist)\n",
    "\n",
    "class Drunk(object):\n",
    "    def __init__(self, name):\n",
    "        self.name = name\n",
    "    def __str__(self):\n",
    "        return \"This drunk is named\" + self.name\n",
    "    \n",
    "class UsualDrunk(Drunk):\n",
    "    def takeStep(self):\n",
    "        stepChoices = [(.0, 1.), (.0, -1.), (1., .0), (-1., .0)]\n",
    "        return (random.choices(stepChoices))\n",
    "\n",
    "class ColdDrunk(Drunk):\n",
    "    def takeStep(self):\n",
    "        stepChoices = [(.0, 0.9), (.0, -1.1), (1., .0), (-1., .0)]\n",
    "        return (random.choices(stepChoices))"
   ]
  },
  {
   "cell_type": "code",
   "execution_count": null,
   "metadata": {
    "collapsed": true
   },
   "outputs": [],
   "source": [
    "def walk(field, drunk, nSteps):\n",
    "    '''\n",
    "    assumes: nSteps is an int>=0;\n",
    "    moves a drunk in the field by nSteps;\n",
    "    returns the distance between the final locaiton and location at the strart of the walk\n",
    "    '''\n",
    "    start = f.getLocation(drunk)\n",
    "    for s in range(nSteps):\n",
    "        field.moveDrunk(drunk)\n",
    "    return (start.distanceFrom(f.getLocation(drunk)))\n",
    "\n",
    "def simulationWalks(nSteps, nTrials, dClass):\n",
    "    '''\n",
    "    assumes: nSteps is an int>=0, nTrials is an int>0, dClass a subclass of Drunk;\n",
    "    simulates nTrials walks of nSteps each;\n",
    "    returns a list of the final distances to each trial\n",
    "    '''\n",
    "    Homer = dClass()\n",
    "    origin = Location(0, 0)\n",
    "    distances = []\n",
    "    for t in range(nTrials):\n",
    "        f = Field()\n",
    "        f.addDrunk(Homer, origin)\n",
    "        distances, append(round(wank(f, Homer, nTrials,), 1))\n",
    "    return distances"
   ]
  }
 ],
 "metadata": {
  "kernelspec": {
   "display_name": "Python 3",
   "language": "python",
   "name": "python3"
  },
  "language_info": {
   "codemirror_mode": {
    "name": "ipython",
    "version": 3
   },
   "file_extension": ".py",
   "mimetype": "text/x-python",
   "name": "python",
   "nbconvert_exporter": "python",
   "pygments_lexer": "ipython3",
   "version": "3.6.0"
  }
 },
 "nbformat": 4,
 "nbformat_minor": 2
}
