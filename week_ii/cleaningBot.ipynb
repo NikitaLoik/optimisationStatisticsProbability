{
 "cells": [
  {
   "cell_type": "code",
   "execution_count": 1,
   "metadata": {
    "collapsed": false
   },
   "outputs": [],
   "source": [
    "import math\n",
    "import random\n",
    "\n",
    "import pylab\n",
    "\n",
    "import ps2_visualize as ps"
   ]
  },
  {
   "cell_type": "code",
   "execution_count": 2,
   "metadata": {
    "collapsed": false
   },
   "outputs": [],
   "source": [
    "##################\n",
    "## Comment/uncomment the relevant lines, depending on which version of Python you have\n",
    "##################\n",
    "\n",
    "# For Python 3.5:\n",
    "#from ps2_verify_movement35 import testRobotMovement\n",
    "# If you get a \"Bad magic number\" ImportError, you are not using Python 3.5 \n",
    "\n",
    "# For Python 3.6:\n",
    "# from ps2_verify_movement36 import testRobotMovement\n",
    "# If you get a \"Bad magic number\" ImportError, you are not using Python 3.6\n",
    "\n",
    "\n",
    "# === Provided class Position\n",
    "class Position(object):\n",
    "    \"\"\"\n",
    "    A Position represents a location in a two-dimensional room.\n",
    "    \"\"\"\n",
    "    def __init__(self, x, y):\n",
    "        \"\"\"\n",
    "        Initializes a position with coordinates (x, y).\n",
    "        \"\"\"\n",
    "        self.x = x\n",
    "        self.y = y\n",
    "        \n",
    "    def getX(self):\n",
    "        return self.x\n",
    "    \n",
    "    def getY(self):\n",
    "        return self.y\n",
    "    \n",
    "    def getNewPosition(self, angle, speed):\n",
    "        \"\"\"\n",
    "        Computes and returns the new Position after a single clock-tick has\n",
    "        passed, with this object as the current position, and with the\n",
    "        specified angle and speed.\n",
    "\n",
    "        Does NOT test whether the returned position fits inside the room.\n",
    "\n",
    "        angle: number representing angle in degrees, 0 <= angle < 360\n",
    "        speed: positive float representing speed\n",
    "\n",
    "        Returns: a Position object representing the new position.\n",
    "        \"\"\"\n",
    "        old_x, old_y = self.getX(), self.getY()\n",
    "        angle = float(angle)\n",
    "        # Compute the change in position\n",
    "        delta_y = speed * math.cos(math.radians(angle))\n",
    "        delta_x = speed * math.sin(math.radians(angle))\n",
    "        # Add that to the existing position\n",
    "        new_x = old_x + delta_x\n",
    "        new_y = old_y + delta_y\n",
    "        return Position(new_x, new_y)\n",
    "\n",
    "    def __str__(self):  \n",
    "        return \"(%0.2f, %0.2f)\" % (self.x, self.y)\n",
    "\n",
    "\n",
    "# === Problem 1\n",
    "class RectangularRoom(object):\n",
    "    \"\"\"\n",
    "    A RectangularRoom represents a rectangular region containing clean or dirty\n",
    "    tiles.\n",
    "\n",
    "    A room has a width and a height and contains (width * height) tiles. At any\n",
    "    particular time, each of these tiles is either clean or dirty.\n",
    "    \"\"\"\n",
    "    def __init__(self, width, height):\n",
    "        \"\"\"\n",
    "        Initializes a rectangular room with the specified width and height.\n",
    "        Initially, no tiles in the room have been cleaned.\n",
    "        width: an integer > 0\n",
    "        height: an integer > 0\n",
    "        \"\"\"\n",
    "        self.width = width\n",
    "        self.height = height\n",
    "        self.tiles = {}\n",
    "        for w in range(width):\n",
    "            for h in range(height):\n",
    "                self.tiles[(w,h)] = 0\n",
    "    \n",
    "    def cleanTileAtPosition(self, pos):\n",
    "        \"\"\"\n",
    "        Mark the tile under the position POS as cleaned.\n",
    "        Assumes that POS represents a valid position inside this room.\n",
    "        pos: a Position\n",
    "        \"\"\"\n",
    "        self.tiles[(int(pos.getX()), int(pos.getY()))] = 1\n",
    "\n",
    "    def isTileCleaned(self, m, n):\n",
    "        \"\"\"\n",
    "        Return True if the tile (m, n) has been cleaned.\n",
    "        Assumes that (m, n) represents a valid tile inside the room.\n",
    "        m: an integer\n",
    "        n: an integer\n",
    "        returns: True if (m, n) is cleaned, False otherwise\n",
    "        \"\"\"\n",
    "        if self.tiles[(m,n)]==1:\n",
    "            return True\n",
    "        else:\n",
    "            return False\n",
    "    \n",
    "    def getNumTiles(self):\n",
    "        \"\"\"\n",
    "        Return the total number of tiles in the room.\n",
    "        returns: an integer\n",
    "        \"\"\"\n",
    "        return self.width*self.height\n",
    "\n",
    "    def getNumCleanedTiles(self):\n",
    "        \"\"\"\n",
    "        Return the total number of clean tiles in the room.\n",
    "        returns: an integer\n",
    "        \"\"\"\n",
    "        return sum(self.tiles.values())\n",
    "\n",
    "    def getRandomPosition(self):\n",
    "        \"\"\"\n",
    "        Return a random position inside the room.\n",
    "        returns: a Position object.\n",
    "        \"\"\"\n",
    "        pos = Position(self.width*random.random(), self.height*random.random())\n",
    "        return pos\n",
    "\n",
    "    def isPositionInRoom(self, pos):\n",
    "        \"\"\"\n",
    "        Return True if pos is inside the room.\n",
    "        pos: a Position object.\n",
    "        returns: True if pos is in the room, False otherwise.\n",
    "        \"\"\"\n",
    "        if pos.getX()<0 or pos.getX()>=self.width or pos.getY()<0 or pos.getY()>=self.height:\n",
    "            return False\n",
    "        else: return True"
   ]
  },
  {
   "cell_type": "code",
   "execution_count": 3,
   "metadata": {
    "collapsed": false
   },
   "outputs": [],
   "source": [
    "# === Problem 2\n",
    "class Robot(object):\n",
    "    \"\"\"\n",
    "    Represents a robot cleaning a particular room.\n",
    "\n",
    "    At all times the robot has a particular position and direction in the room.\n",
    "    The robot also has a fixed speed.\n",
    "\n",
    "    Subclasses of Robot should provide movement strategies by implementing\n",
    "    updatePositionAndClean(), which simulates a single time-step.\n",
    "    \"\"\"\n",
    "    def __init__(self, room, speed):\n",
    "        \"\"\"\n",
    "        Initializes a Robot with the given speed in the specified room. The\n",
    "        robot initially has a random direction and a random position in the\n",
    "        room. The robot cleans the tile it is on.\n",
    "        room:  a RectangularRoom object.\n",
    "        speed: a float (speed > 0)\n",
    "        \"\"\"\n",
    "        self.room = room\n",
    "        self.speed = speed\n",
    "        self.position = Position(self.room.width*random.random(), self.room.height*random.random())\n",
    "        self.direction = random.randint(0,360)\n",
    "        self.room.cleanTileAtPosition(self.position)\n",
    "\n",
    "    def getRobotPosition(self):\n",
    "        \"\"\"\n",
    "        Return the position of the robot.\n",
    "        returns: a Position object giving the robot's position.\n",
    "        \"\"\"\n",
    "        return self.position\n",
    "    \n",
    "    def getRobotDirection(self):\n",
    "        \"\"\"\n",
    "        Return the direction of the robot.\n",
    "        returns: an integer d giving the direction of the robot as an angle in\n",
    "        degrees, 0 <= d < 360.\n",
    "        \"\"\"\n",
    "        return self.direction\n",
    "\n",
    "    def setRobotPosition(self, position):\n",
    "        \"\"\"\n",
    "        Set the position of the robot to POSITION.\n",
    "        position: a Position object.\n",
    "        \"\"\"\n",
    "        if self.room.isPositionInRoom(Position(position.getX(), position.getY())) is True:\n",
    "            self.position = Position(position.getX(), position.getY())\n",
    "#             self.room.cleanTileAtPosition(self.position)\n",
    "            return self.position\n",
    "        else:\n",
    "            return self.position\n",
    "\n",
    "    def setRobotDirection(self, direction):\n",
    "        \"\"\"\n",
    "        Set the direction of the robot to DIRECTION.\n",
    "        direction: integer representing an angle in degrees\n",
    "        \"\"\"\n",
    "        self.direction = direction\n",
    "        return self.direction\n",
    "\n",
    "    def updatePositionAndClean(self):\n",
    "        \"\"\"\n",
    "        Simulate the passage of a single time-step.\n",
    "        Move the robot to a new position and mark the tile it is on as having\n",
    "        been cleaned.\n",
    "        \"\"\"\n",
    "        raise NotImplementedError # don't change this!"
   ]
  },
  {
   "cell_type": "code",
   "execution_count": 4,
   "metadata": {
    "collapsed": false
   },
   "outputs": [],
   "source": [
    "# === Problem 3\n",
    "class StandardRobot(Robot):\n",
    "    \"\"\"\n",
    "    A StandardRobot is a Robot with the standard movement strategy.\n",
    "\n",
    "    At each time-step, a StandardRobot attempts to move in its current\n",
    "    direction; when it would hit a wall, it *instead* chooses a new direction\n",
    "    randomly.\n",
    "    \"\"\"\n",
    "    def updatePositionAndClean(self):\n",
    "        \"\"\"\n",
    "        Simulate the passage of a single time-step.\n",
    "        Move the robot to a new position and mark the tile it is on as having\n",
    "        been cleaned.\n",
    "        \"\"\"\n",
    "        while self.room.isPositionInRoom(self.position.getNewPosition(self.direction, self.speed)) is False:\n",
    "            self.direction = random.randint(0,360)\n",
    "        \n",
    "        self.position = self.setRobotPosition(self.position.getNewPosition(self.direction, self.speed))\n",
    "        self.room.cleanTileAtPosition(self.position)"
   ]
  },
  {
   "cell_type": "code",
   "execution_count": 5,
   "metadata": {
    "collapsed": false
   },
   "outputs": [],
   "source": [
    "# === Problem 4\n",
    "\n",
    "def singleSimulation(num_robots, speed, width, height, min_coverage, robot_type):\n",
    "    room = RectangularRoom(width, height)\n",
    "    robotList = []\n",
    "    for n in range(num_robots):\n",
    "        robotList += [robot_type(room, speed)]\n",
    "\n",
    "    roomCoverage = room.getNumCleanedTiles()/room.getNumTiles()\n",
    "    i = 0\n",
    "    while roomCoverage < min_coverage:\n",
    "        for robot in robotList:\n",
    "            robot.updatePositionAndClean()\n",
    "        roomCoverage = room.getNumCleanedTiles()/room.getNumTiles()\n",
    "        i+=1\n",
    "#         print(i, roomCoverage)\n",
    "    return i\n",
    "\n",
    "def runSimulation(num_robots, speed, width, height, min_coverage, num_trials,\n",
    "                  robot_type):\n",
    "    \"\"\"\n",
    "    Runs NUM_TRIALS trials of the simulation and returns the mean number of\n",
    "    time-steps needed to clean the fraction MIN_COVERAGE of the room.\n",
    "\n",
    "    The simulation is run with NUM_ROBOTS robots of type ROBOT_TYPE, each with\n",
    "    speed SPEED, in a room of dimensions WIDTH x HEIGHT.\n",
    "\n",
    "    num_robots: an int (num_robots > 0)\n",
    "    speed: a float (speed > 0)\n",
    "    width: an int (width > 0)\n",
    "    height: an int (height > 0)\n",
    "    min_coverage: a float (0 <= min_coverage <= 1.0)\n",
    "    num_trials: an int (num_trials > 0)\n",
    "    robot_type: class of robot to be instantiated (e.g. StandardRobot or\n",
    "                RandomWalkRobot)\n",
    "    \"\"\"\n",
    "    clockTicksList = []\n",
    "    for t in range(num_trials):\n",
    "        clockTick = singleSimulation(num_robots, speed, width, height, min_coverage, robot_type)\n",
    "        clockTicksList += [clockTick]\n",
    "    return sum(clockTicksList)/(num_trials)\n",
    "\n",
    "        \n",
    "    \n",
    "# Uncomment this line to see how much your simulation takes on average\n",
    "##print(runSimulation(1, 1.0, 10, 10, 0.75, 30, StandardRobot))"
   ]
  },
  {
   "cell_type": "code",
   "execution_count": 6,
   "metadata": {
    "collapsed": false
   },
   "outputs": [
    {
     "data": {
      "text/plain": [
       "51.93333333333333"
      ]
     },
     "execution_count": 6,
     "metadata": {},
     "output_type": "execute_result"
    }
   ],
   "source": [
    "runSimulation(10, 1.0, 15, 20, 0.8, 30, StandardRobot)"
   ]
  },
  {
   "cell_type": "code",
   "execution_count": 7,
   "metadata": {
    "collapsed": true
   },
   "outputs": [],
   "source": [
    "class RandomWalkRobot(Robot):\n",
    "    \"\"\"\n",
    "    A RandomWalkRobot is a robot with the \"random walk\" movement strategy: it\n",
    "    chooses a new direction at random at the end of each time-step.\n",
    "    \"\"\"\n",
    "    def updatePositionAndClean(self):\n",
    "        \"\"\"\n",
    "        Simulate the passage of a single time-step.\n",
    "\n",
    "        Move the robot to a new position and mark the tile it is on as having\n",
    "        been cleaned.\n",
    "        \"\"\"\n",
    "        while self.room.isPositionInRoom(self.position.getNewPosition(self.direction, self.speed)) is False:\n",
    "            self.direction = random.randint(0,360)\n",
    "        \n",
    "        self.position = self.setRobotPosition(self.position.getNewPosition(self.direction, self.speed))\n",
    "        self.room.cleanTileAtPosition(self.position)\n",
    "        self.direction = random.randint(0,360)"
   ]
  },
  {
   "cell_type": "code",
   "execution_count": 8,
   "metadata": {
    "collapsed": true
   },
   "outputs": [],
   "source": [
    "def showPlot1(title, x_label, y_label):\n",
    "    \"\"\"\n",
    "    What information does the plot produced by this function tell you?\n",
    "    \"\"\"\n",
    "    num_robot_range = range(1, 11)\n",
    "    times1 = []\n",
    "    times2 = []\n",
    "    for num_robots in num_robot_range:\n",
    "        print(\"Plotting\", num_robots, \"robots...\")\n",
    "        times1.append(runSimulation(num_robots, 1.0, 20, 20, 0.8, 20, StandardRobot))\n",
    "        times2.append(runSimulation(num_robots, 1.0, 20, 20, 0.8, 20, RandomWalkRobot))\n",
    "    pylab.plot(num_robot_range, times1)\n",
    "    pylab.plot(num_robot_range, times2)\n",
    "    pylab.title(title)\n",
    "    pylab.legend(('StandardRobot', 'RandomWalkRobot'))\n",
    "    pylab.xlabel(x_label)\n",
    "    pylab.ylabel(y_label)\n",
    "    pylab.show()\n",
    "\n",
    "    \n",
    "def showPlot2(title, x_label, y_label):\n",
    "    \"\"\"\n",
    "    What information does the plot produced by this function tell you?\n",
    "    \"\"\"\n",
    "    aspect_ratios = []\n",
    "    times1 = []\n",
    "    times2 = []\n",
    "    for width in [10, 20, 25, 50]:\n",
    "        height = 300//width\n",
    "        print(\"Plotting cleaning time for a room of width:\", width, \"by height:\", height)\n",
    "        aspect_ratios.append(float(width) / height)\n",
    "        times1.append(runSimulation(2, 1.0, width, height, 0.8, 200, StandardRobot))\n",
    "        times2.append(runSimulation(2, 1.0, width, height, 0.8, 200, RandomWalkRobot))\n",
    "    pylab.plot(aspect_ratios, times1)\n",
    "    pylab.plot(aspect_ratios, times2)\n",
    "    pylab.title(title)\n",
    "    pylab.legend(('StandardRobot', 'RandomWalkRobot'))\n",
    "    pylab.xlabel(x_label)\n",
    "    pylab.ylabel(y_label)\n",
    "    pylab.show()\n",
    "    \n",
    "\n",
    "# === Problem 6\n",
    "# NOTE: If you are running the simulation, you will have to close it \n",
    "# before the plot will show up.\n",
    "\n",
    "#\n",
    "# 1) Write a function call to showPlot1 that generates an appropriately-labeled\n",
    "#     plot.\n",
    "#\n",
    "#       (... your call here ...)\n",
    "#\n",
    "\n",
    "#\n",
    "# 2) Write a function call to showPlot2 that generates an appropriately-labeled\n",
    "#     plot.\n",
    "#\n",
    "#       (... your call here ...)\n",
    "#"
   ]
  },
  {
   "cell_type": "code",
   "execution_count": 9,
   "metadata": {
    "collapsed": false
   },
   "outputs": [
    {
     "name": "stdout",
     "output_type": "stream",
     "text": [
      "Plotting 1 robots...\n",
      "Plotting 2 robots...\n",
      "Plotting 3 robots...\n",
      "Plotting 4 robots...\n",
      "Plotting 5 robots...\n",
      "Plotting 6 robots...\n",
      "Plotting 7 robots...\n",
      "Plotting 8 robots...\n",
      "Plotting 9 robots...\n",
      "Plotting 10 robots...\n"
     ]
    },
    {
     "data": {
      "image/png": "[encoded data removed]",
      "text/plain": [
       "<matplotlib.figure.Figure at 0x1093ae5f8>"
      ]
     },
     "metadata": {},
     "output_type": "display_data"
    }
   ],
   "source": [
    "showPlot1(\"Time It Takes 1 - 10 Robots To Clean 80% Of A Room\", \"Number of Robots\", \"Time-steps\")"
   ]
  },
  {
   "cell_type": "code",
   "execution_count": 10,
   "metadata": {
    "collapsed": false
   },
   "outputs": [
    {
     "name": "stdout",
     "output_type": "stream",
     "text": [
      "Plotting cleaning time for a room of width: 10 by height: 30\n",
      "Plotting cleaning time for a room of width: 20 by height: 15\n",
      "Plotting cleaning time for a room of width: 25 by height: 12\n",
      "Plotting cleaning time for a room of width: 50 by height: 6\n"
     ]
    },
    {
     "data": {
      "image/png": "[encoded data removed]",
      "text/plain": [
       "<matplotlib.figure.Figure at 0x113730908>"
      ]
     },
     "metadata": {},
     "output_type": "display_data"
    }
   ],
   "source": [
    "showPlot2(\"Time It Takes Two Robots To Clean 80% Of Variously Shaped Rooms\", \"Aspect Ratio\", \"Time-steps \")"
   ]
  },
  {
   "cell_type": "code",
   "execution_count": null,
   "metadata": {
    "collapsed": true
   },
   "outputs": [],
   "source": []
  }
 ],
 "metadata": {
  "kernelspec": {
   "display_name": "Python 3",
   "language": "python",
   "name": "python3"
  },
  "language_info": {
   "codemirror_mode": {
    "name": "ipython",
    "version": 3
   },
   "file_extension": ".py",
   "mimetype": "text/x-python",
   "name": "python",
   "nbconvert_exporter": "python",
   "pygments_lexer": "ipython3",
   "version": "3.6.0"
  }
 },
 "nbformat": 4,
 "nbformat_minor": 2
}
