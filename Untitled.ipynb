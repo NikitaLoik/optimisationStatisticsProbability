{
 "cells": [
  {
   "cell_type": "code",
   "execution_count": 1,
   "metadata": {
    "collapsed": true
   },
   "outputs": [],
   "source": [
    "import numpy as np"
   ]
  },
  {
   "cell_type": "code",
   "execution_count": 2,
   "metadata": {
    "collapsed": true
   },
   "outputs": [],
   "source": [
    "import random, pylab\n",
    "xVals = []\n",
    "yVals = []\n",
    "wVals = []\n",
    "for i in range(1000):\n",
    "    xVals.append(random.random())\n",
    "    yVals.append(random.random())\n",
    "    wVals.append(random.random())\n",
    "xVals = pylab.array(xVals)\n",
    "yVals = pylab.array(yVals)\n",
    "wVals = pylab.array(wVals)\n",
    "xVals = xVals + xVals\n",
    "zVals = xVals + yVals\n",
    "tVals = xVals + yVals + wVals"
   ]
  },
  {
   "cell_type": "code",
   "execution_count": 3,
   "metadata": {
    "collapsed": false
   },
   "outputs": [
    {
     "data": {
      "image/png": "[encoded data removed]",
      "text/plain": [
       "<matplotlib.figure.Figure at 0x10a9d9080>"
      ]
     },
     "metadata": {},
     "output_type": "display_data"
    }
   ],
   "source": [
    "pylab.hist(tVals)\n",
    "title = None\n",
    "if title!=None:\n",
    "    pylab.title(title)\n",
    "pylab.show()"
   ]
  },
  {
   "cell_type": "code",
   "execution_count": 4,
   "metadata": {
    "collapsed": false
   },
   "outputs": [
    {
     "data": {
      "image/png": "[encoded data removed]",
      "text/plain": [
       "<matplotlib.figure.Figure at 0x102b7a710>"
      ]
     },
     "metadata": {},
     "output_type": "display_data"
    }
   ],
   "source": [
    "pylab.plot(xVals, sorted(yVals))\n",
    "pylab.show()"
   ]
  },
  {
   "cell_type": "code",
   "execution_count": 5,
   "metadata": {
    "collapsed": true
   },
   "outputs": [],
   "source": [
    "def drawing_without_replacement_sim(numTrials):\n",
    "    '''\n",
    "    Runs numTrials trials of a Monte Carlo simulation\n",
    "    of drawing 3 balls out of a bucket containing\n",
    "    4 red and 4 green balls. Balls are not replaced once\n",
    "    drawn. Returns a float - the fraction of times 3 \n",
    "    balls of the same color were drawn in the first 3 draws.\n",
    "    '''\n",
    "    successCounter = 0\n",
    "    for nT in range(numTrials):\n",
    "        a = [1,1,1,1,0,0,0,0,]\n",
    "        selection = []\n",
    "        for i in range(3):\n",
    "            random.shuffle(a)\n",
    "            selection += [a.pop(random.choice(range(len(a))))]\n",
    "\n",
    "    #     print (selection)\n",
    "        if sum(selection) == 0 or sum(selection) == 3:\n",
    "            successCounter += 1\n",
    "    return successCounter/numTrials"
   ]
  },
  {
   "cell_type": "code",
   "execution_count": 6,
   "metadata": {
    "collapsed": false
   },
   "outputs": [
    {
     "name": "stdout",
     "output_type": "stream",
     "text": [
      "0.1434\n"
     ]
    }
   ],
   "source": [
    "numTrials = 10000\n",
    "successCounter = 0\n",
    "for nT in range(numTrials):\n",
    "    a = [1,1,1,1,0,0,0,0,]\n",
    "    selection = []\n",
    "    for i in range(3):\n",
    "        random.shuffle(a)\n",
    "        selection += [a.pop(random.choice(range(len(a))))]\n",
    "\n",
    "#     print (selection)\n",
    "    if sum(selection) == 0 or sum(selection) == 3:\n",
    "        successCounter += 1\n",
    "print(successCounter/numTrials)"
   ]
  },
  {
   "cell_type": "code",
   "execution_count": 7,
   "metadata": {
    "collapsed": false
   },
   "outputs": [
    {
     "data": {
      "text/plain": [
       "0.1449"
      ]
     },
     "execution_count": 7,
     "metadata": {},
     "output_type": "execute_result"
    }
   ],
   "source": [
    "drawing_without_replacement_sim(10000)"
   ]
  },
  {
   "cell_type": "code",
   "execution_count": 8,
   "metadata": {
    "collapsed": true
   },
   "outputs": [],
   "source": [
    "import random, pylab\n",
    "\n",
    "# You are given this function\n",
    "def getMeanAndStd(X):\n",
    "    mean = sum(X)/float(len(X))\n",
    "    tot = 0.0\n",
    "    for x in X:\n",
    "        tot += (x - mean)**2\n",
    "    std = (tot/len(X))**0.5\n",
    "    return mean, std\n",
    "\n",
    "# You are given this class\n",
    "class Die(object):\n",
    "    def __init__(self, valList):\n",
    "        \"\"\" valList is not empty \"\"\"\n",
    "        self.possibleVals = valList[:]\n",
    "    def roll(self):\n",
    "        return random.choice(self.possibleVals)\n",
    "\n",
    "# Implement this -- Coding Part 1 of 2\n",
    "def makeHistogram(values, numBins, xLabel, yLabel, title=None):\n",
    "    \"\"\"\n",
    "      - values, a sequence of numbers\n",
    "      - numBins, a positive int\n",
    "      - xLabel, yLabel, title, are strings\n",
    "      - Produces a histogram of values with numBins bins and the indicated labels\n",
    "        for the x and y axis\n",
    "      - If title is provided by caller, puts that title on the figure and otherwise\n",
    "        does not title the figure\n",
    "    \"\"\"\n",
    "    # TODO\n",
    "    pylab.hist(values, bins=numBins)\n",
    "    if title!=None:\n",
    "        pylab.title(title)\n",
    "    pylab.xlabel(xLabel)\n",
    "    pylab.ylabel(yLabel)\n",
    "    pylab.show()\n",
    "    \n",
    "                    \n",
    "# Implement this -- Coding Part 2 of 2\n",
    "def getAverage(die, numRolls, numTrials):\n",
    "    \"\"\"\n",
    "      - die, a Die\n",
    "      - numRolls, numTrials, are positive ints\n",
    "      - Calculates the expected mean value of the longest run of a number\n",
    "        over numTrials runs of numRolls rolls\n",
    "      - Calls makeHistogram to produce a histogram of the longest runs for all\n",
    "        the trials. There should be 10 bins in the histogram\n",
    "      - Choose appropriate labels for the x and y axes.\n",
    "      - Returns the mean calculated\n",
    "    \"\"\"\n",
    "    longestRuns = []\n",
    "    for nT in range(numTrials):\n",
    "        if numRolls > 0:\n",
    "            longestRun = 1\n",
    "        else:\n",
    "            longestRun = 0\n",
    "        currentRun = 0\n",
    "        previousRoll = None\n",
    "        for nR in range(numRolls):\n",
    "            roll = die.roll()\n",
    "            if roll==previousRoll:\n",
    "                currentRun+=1\n",
    "                if longestRun < currentRun:\n",
    "                    longestRun = currentRun\n",
    "            else:\n",
    "                currentRun = 1\n",
    "            previousRoll = roll\n",
    "        longestRuns += [longestRun]\n",
    "    makeHistogram(longestRuns, 10, \"Longest Runs\", \"Number of Trials\", title=None)\n",
    "\n",
    "    return sum(longestRuns)/numTrials"
   ]
  },
  {
   "cell_type": "code",
   "execution_count": 9,
   "metadata": {
    "collapsed": false
   },
   "outputs": [
    {
     "data": {
      "image/png": "[encoded data removed]",
      "text/plain": [
       "<matplotlib.figure.Figure at 0x10aeaada0>"
      ]
     },
     "metadata": {},
     "output_type": "display_data"
    },
    {
     "name": "stdout",
     "output_type": "stream",
     "text": [
      "5.3504\n"
     ]
    }
   ],
   "source": [
    "# One test case\n",
    "print (getAverage(Die([1,2,3,4,5,6,6,6,7]), 500, 10000))"
   ]
  },
  {
   "cell_type": "code",
   "execution_count": 10,
   "metadata": {
    "collapsed": true
   },
   "outputs": [],
   "source": [
    "def find_combination(choices, total):\n",
    "    \"\"\"\n",
    "    choices: a non-empty list of ints\n",
    "    total: a positive int\n",
    " \n",
    "    Returns result, a numpy.array of length len(choices) \n",
    "    such that\n",
    "        * each element of result is 0 or 1\n",
    "        * sum(result*choices) == total\n",
    "        * sum(result) is as small as possible\n",
    "    In case of ties, returns any result that works.\n",
    "    If there is no result that gives the exact total, \n",
    "    pick the one that gives sum(result*choices) closest \n",
    "    to total without going over.\n",
    "    \"\"\"\n",
    "    coicesDictionary = {}\n",
    "    for c in choices:\n",
    "        if c == total:\n",
    "            "
   ]
  },
  {
   "cell_type": "code",
   "execution_count": 11,
   "metadata": {
    "collapsed": false
   },
   "outputs": [
    {
     "data": {
      "text/plain": [
       "array([0, 2, 2, 0])"
      ]
     },
     "execution_count": 11,
     "metadata": {},
     "output_type": "execute_result"
    }
   ],
   "source": [
    "a = np.array([1,2,2,3])\n",
    "b = np.array([0, 1, 1, 0])\n",
    "c = a*b\n",
    "c"
   ]
  },
  {
   "cell_type": "code",
   "execution_count": 12,
   "metadata": {
    "collapsed": false
   },
   "outputs": [
    {
     "name": "stdout",
     "output_type": "stream",
     "text": [
      "Help on built-in function bin in module builtins:\n",
      "\n",
      "bin(number, /)\n",
      "    Return the binary representation of an integer.\n",
      "    \n",
      "    >>> bin(2796202)\n",
      "    '0b1010101010101010101010'\n",
      "\n"
     ]
    }
   ],
   "source": [
    "help(bin)"
   ]
  },
  {
   "cell_type": "code",
   "execution_count": 13,
   "metadata": {
    "collapsed": false
   },
   "outputs": [],
   "source": [
    "def partitions(set_):\n",
    "    if not set_:\n",
    "        yield []\n",
    "        return\n",
    "    for i in range(2**len(set_)//2):\n",
    "        parts = [set(), set()]\n",
    "        for item in set_:\n",
    "            parts[i&1].add(item)\n",
    "            i >>= 1\n",
    "        for b in partitions(parts[1]):\n",
    "            yield [parts[0]]+b\n",
    "            \n",
    "def get_partitions(set_):\n",
    "    for partition in partitions(set_):\n",
    "        yield [list(elt) for elt in partition]\n",
    "\n",
    "### Uncomment the following code  and run this file\n",
    "### to see what get_partitions does if you want to visualize it:\n",
    "\n",
    "# for item in (get_partitions(['a','b','c','d'])):\n",
    "#     print(item)"
   ]
  },
  {
   "cell_type": "code",
   "execution_count": 14,
   "metadata": {
    "collapsed": false
   },
   "outputs": [],
   "source": [
    "# class rabit(object):\n",
    "#     def __init__(self):\n",
    "        \n",
    "#     def reproduce(self, currentPopulation, maxPopulation=1000):\n",
    "#         if random.random() < 1-currentPopulation/maxPopulation:\n",
    "#             return rabit()\n",
    "\n",
    "# class fox(object):\n",
    "#     def __init__(self):\n",
    "    \n",
    "#     def reproduce(self):\n",
    "#         if random.random() < 1/3:\n",
    "#             return fox()\n",
    "        \n",
    "# class forest(object):\n",
    "#     def __init__(self, rabitPopulation=10, foxPopulation=10):\n",
    "#         self.rabitPopulation = rabitPopulation\n",
    "#         self.foxPopulation = foxPopulation\n",
    "    \n",
    "    \n",
    "#     def consumtion(self):\n",
    "#         if self.rabitPopulation > 10:\n",
    "#             if random.random() < self.rabitPopulation/1000:\n",
    "#                 self.rabitPopulation -= 1\n",
    "    "
   ]
  },
  {
   "cell_type": "code",
   "execution_count": 26,
   "metadata": {
    "collapsed": false
   },
   "outputs": [],
   "source": [
    "import random\n",
    "import pylab\n",
    "\n",
    "# Global Variables\n",
    "MAXRABBITPOP = 1000\n",
    "CURRENTRABBITPOP = 500\n",
    "CURRENTFOXPOP = 30\n",
    "\n",
    "def rabbitGrowth():\n",
    "    \"\"\" \n",
    "    rabbitGrowth is called once at the beginning of each time step.\n",
    "\n",
    "    It makes use of the global variables: CURRENTRABBITPOP and MAXRABBITPOP.\n",
    "\n",
    "    The global variable CURRENTRABBITPOP is modified by this procedure.\n",
    "\n",
    "    For each rabbit, based on the probabilities in the problem set write-up, \n",
    "      a new rabbit may be born.\n",
    "    Nothing is returned.\n",
    "    \"\"\"\n",
    "    # you need this line for modifying global variables\n",
    "    global CURRENTRABBITPOP\n",
    "\n",
    "    # TO DO\n",
    "    for r in range(CURRENTRABBITPOP):\n",
    "        if random.random() < 1-CURRENTRABBITPOP/MAXRABBITPOP:\n",
    "            CURRENTRABBITPOP += 1\n",
    "            \n",
    "def foxGrowth():\n",
    "    \"\"\" \n",
    "    foxGrowth is called once at the end of each time step.\n",
    "\n",
    "    It makes use of the global variables: CURRENTFOXPOP and CURRENTRABBITPOP,\n",
    "        and both may be modified by this procedure.\n",
    "\n",
    "    Each fox, based on the probabilities in the problem statement, may eat \n",
    "      one rabbit (but only if there are more than 10 rabbits).\n",
    "\n",
    "    If it eats a rabbit, then with a 1/3 prob it gives birth to a new fox.\n",
    "\n",
    "    If it does not eat a rabbit, then with a 1/10 prob it dies.\n",
    "\n",
    "    Nothing is returned.\n",
    "    \"\"\"\n",
    "    # you need these lines for modifying global variables\n",
    "    global CURRENTRABBITPOP\n",
    "    global CURRENTFOXPOP\n",
    "\n",
    "    # TO DO\n",
    "    for f in range(CURRENTFOXPOP):\n",
    "        if CURRENTRABBITPOP > 10:\n",
    "            if random.random() < CURRENTRABBITPOP/MAXRABBITPOP:\n",
    "                CURRENTRABBITPOP -= 1\n",
    "                if random.random() < 1.0/3.0:\n",
    "                    CURRENTFOXPOP += 1\n",
    "            else:\n",
    "                if CURRENTFOXPOP > 10:\n",
    "                    if random.random() < 0.9:\n",
    "                        CURRENTFOXPOP -= 1\n",
    "                \n",
    "    \n",
    "            \n",
    "def runSimulation(numSteps):\n",
    "    \"\"\"\n",
    "    Runs the simulation for `numSteps` time steps.\n",
    "\n",
    "    Returns a tuple of two lists: (rabbit_populations, fox_populations)\n",
    "      where rabbit_populations is a record of the rabbit population at the \n",
    "      END of each time step, and fox_populations is a record of the fox population\n",
    "      at the END of each time step.\n",
    "\n",
    "    Both lists should be `numSteps` items long.\n",
    "    \"\"\"\n",
    "\n",
    "    # TO DO\n",
    "    rabbit_populations = [CURRENTRABBITPOP]\n",
    "    fox_populations = [CURRENTFOXPOP]\n",
    "    \n",
    "    for nS in range(numSteps-1):\n",
    "        rabbitGrowth()\n",
    "        foxGrowth()\n",
    "        rabbit_populations += [CURRENTRABBITPOP]\n",
    "        fox_populations += [CURRENTFOXPOP]\n",
    "    return rabbit_populations, fox_populations"
   ]
  },
  {
   "cell_type": "code",
   "execution_count": 27,
   "metadata": {
    "collapsed": false
   },
   "outputs": [
    {
     "data": {
      "image/png": "[encoded data removed]",
      "text/plain": [
       "<matplotlib.figure.Figure at 0x10b4a9780>"
      ]
     },
     "metadata": {},
     "output_type": "display_data"
    }
   ],
   "source": [
    "# runSimulation(1000)\n",
    "simulationResults = runSimulation(200)\n",
    "pylab.plot(range(200),simulationResults[0])\n",
    "pylab.plot(range(200),simulationResults[1])\n",
    "pylab.show()"
   ]
  },
  {
   "cell_type": "code",
   "execution_count": 28,
   "metadata": {
    "collapsed": false
   },
   "outputs": [
    {
     "name": "stdout",
     "output_type": "stream",
     "text": [
      "[  5.89676421e-03  -1.55892821e+00   7.37448528e+02]\n",
      "[ -5.37505168e-03   1.34724647e+00   1.56494722e+02]\n"
     ]
    }
   ],
   "source": [
    "rabbitCoefficients = np.polyfit(range(200), simulationResults[0], 2)\n",
    "foxCoefficients = np.polyfit(range(200), simulationResults[1], 2)\n",
    "print(rabbitCoefficients)\n",
    "print(foxCoefficients)\n",
    "rabbitEstimate = np.polyval(rabbitCoefficients, range(200))\n",
    "foxEstimate = np.polyval(foxCoefficients, range(200))"
   ]
  },
  {
   "cell_type": "code",
   "execution_count": 29,
   "metadata": {
    "collapsed": false
   },
   "outputs": [
    {
     "data": {
      "image/png": "[encoded data removed]",
      "text/plain": [
       "<matplotlib.figure.Figure at 0x10b6a83c8>"
      ]
     },
     "metadata": {},
     "output_type": "display_data"
    }
   ],
   "source": [
    "pylab.plot(range(200),simulationResults[0])\n",
    "pylab.plot(range(200),simulationResults[1])\n",
    "pylab.plot(range(200),rabbitEstimate)\n",
    "pylab.plot(range(200),foxEstimate)\n",
    "pylab.show()"
   ]
  },
  {
   "cell_type": "code",
   "execution_count": null,
   "metadata": {
    "collapsed": true
   },
   "outputs": [],
   "source": []
  }
 ],
 "metadata": {
  "kernelspec": {
   "display_name": "Python 3",
   "language": "python",
   "name": "python3"
  },
  "language_info": {
   "codemirror_mode": {
    "name": "ipython",
    "version": 3
   },
   "file_extension": ".py",
   "mimetype": "text/x-python",
   "name": "python",
   "nbconvert_exporter": "python",
   "pygments_lexer": "ipython3",
   "version": "3.6.0"
  }
 },
 "nbformat": 4,
 "nbformat_minor": 2
}
