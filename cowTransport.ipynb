{
 "cells": [
  {
   "cell_type": "code",
   "execution_count": 1,
   "metadata": {
    "collapsed": true
   },
   "outputs": [],
   "source": [
    "import time"
   ]
  },
  {
   "cell_type": "code",
   "execution_count": 2,
   "metadata": {
    "collapsed": true
   },
   "outputs": [],
   "source": [
    "def load_cows(filename):\n",
    "    \"\"\"\n",
    "    Read the contents of the given file.  Assumes the file contents contain\n",
    "    data in the form of comma-separated cow name, weight pairs, and return a\n",
    "    dictionary containing cow names as keys and corresponding weights as values.\n",
    "\n",
    "    Parameters:\n",
    "    filename - the name of the data file as a string\n",
    "\n",
    "    Returns:\n",
    "    a dictionary of cow name (string), weight (int) pairs\n",
    "    \"\"\"\n",
    "\n",
    "    cow_dict = dict()\n",
    "\n",
    "    f = open(filename, 'r')\n",
    "    \n",
    "    for line in f:\n",
    "        line_data = line.split(',')\n",
    "        cow_dict[line_data[0]] = int(line_data[1])\n",
    "    return cow_dict"
   ]
  },
  {
   "cell_type": "code",
   "execution_count": 3,
   "metadata": {
    "collapsed": false
   },
   "outputs": [
    {
     "name": "stdout",
     "output_type": "stream",
     "text": [
      "Maggie 3\n",
      "Herman 7\n",
      "Betsy 9\n",
      "Oreo 6\n",
      "Moo Moo 3\n",
      "Milkshake 2\n",
      "Millie 5\n",
      "Lola 2\n",
      "Florence 2\n",
      "Henrietta 9\n"
     ]
    },
    {
     "data": {
      "text/plain": [
       "[None, None, None, None, None, None, None, None, None, None]"
      ]
     },
     "execution_count": 3,
     "metadata": {},
     "output_type": "execute_result"
    }
   ],
   "source": [
    "cows = load_cows('pset1/ps1_cow_data.txt')\n",
    "[print(cow, cows[cow]) for cow in cows]"
   ]
  },
  {
   "cell_type": "code",
   "execution_count": 4,
   "metadata": {
    "collapsed": true
   },
   "outputs": [],
   "source": [
    "# Problem 1\n",
    "def greedy_cow_transport(cows,limit=10):\n",
    "    \"\"\"\n",
    "    Uses a greedy heuristic to determine an allocation of cows that attempts to\n",
    "    minimize the number of spaceship trips needed to transport all the cows. The\n",
    "    returned allocation of cows may or may not be optimal.\n",
    "    The greedy heuristic should follow the following method:\n",
    "\n",
    "    1. As long as the current trip can fit another cow, add the largest cow that will fit\n",
    "        to the trip\n",
    "    2. Once the trip is full, begin a new trip to transport the remaining cows\n",
    "\n",
    "    Does not mutate the given dictionary of cows.\n",
    "\n",
    "    Parameters:\n",
    "    cows - a dictionary of name (string), weight (int) pairs\n",
    "    limit - weight limit of the spaceship (an int)\n",
    "    \n",
    "    Returns:\n",
    "    A list of lists, with each inner list containing the names of cows\n",
    "    transported on a particular trip and the overall list containing all the\n",
    "    trips\n",
    "    \"\"\"\n",
    "    # cows.items() returns a list of tuples [(key, value),...]\n",
    "    fittingCows = {key:value for key,value in cows.items() if value <= limit}\n",
    "    # sort the fitting cows by their weight\n",
    "    sortedCows = sorted(fittingCows, key=cows.get, reverse=True)\n",
    "    allTrips = []\n",
    "    while sortedCows != []:\n",
    "        weightLeft = limit\n",
    "        singleTrip = []\n",
    "        for cow in sortedCows:\n",
    "            if fittingCows[cow] <= weightLeft:\n",
    "                singleTrip += [cow]\n",
    "                weightLeft -= fittingCows[cow]\n",
    "        sortedCows = [cow for cow in sortedCows if cow not in singleTrip]\n",
    "        allTrips += [singleTrip]\n",
    "    return allTrips"
   ]
  },
  {
   "cell_type": "code",
   "execution_count": 5,
   "metadata": {
    "collapsed": false
   },
   "outputs": [
    {
     "name": "stdout",
     "output_type": "stream",
     "text": [
      "[['Betsy'], ['Henrietta'], ['Herman', 'Maggie'], ['Oreo', 'Moo Moo'], ['Millie', 'Milkshake', 'Lola'], ['Florence']]\n"
     ]
    }
   ],
   "source": [
    "print(greedy_cow_transport(cows,limit=10))"
   ]
  },
  {
   "cell_type": "code",
   "execution_count": 6,
   "metadata": {
    "collapsed": false
   },
   "outputs": [],
   "source": [
    "#From codereview.stackexchange.com                    \n",
    "def partitions(set_):\n",
    "    if not set_:\n",
    "        yield []\n",
    "        return\n",
    "    for i in range(2**len(set_)//2):\n",
    "        parts = [set(), set()]\n",
    "        for item in set_:\n",
    "            parts[i&1].add(item)\n",
    "            i >>= 1\n",
    "        for b in partitions(parts[1]):\n",
    "            yield [parts[0]]+b\n",
    "\n",
    "\n",
    "# This is a helper function that will fetch all of the available \n",
    "# partitions for you to use for your brute force algorithm.\n",
    "def get_partitions(set_):\n",
    "    for partition in partitions(set_):\n",
    "        yield [list(elt) for elt in partition]\n",
    "\n",
    "### Uncomment the following code  and run this file\n",
    "### to see what get_partitions does if you want to visualize it:\n",
    "\n",
    "# for item in (get_partitions(['a','b','c','d'])):\n",
    "#     print(item)"
   ]
  },
  {
   "cell_type": "code",
   "execution_count": 7,
   "metadata": {
    "collapsed": false
   },
   "outputs": [],
   "source": [
    "# Problem 2\n",
    "def brute_force_cow_transport(cows,limit=10):\n",
    "    \"\"\"\n",
    "    Finds the allocation of cows that minimizes the number of spaceship trips\n",
    "    via brute force.  The brute force algorithm should follow the following method:\n",
    "\n",
    "    1. Enumerate all possible ways that the cows can be divided into separate trips\n",
    "    2. Select the allocation that minimizes the number of trips without making any trip\n",
    "        that does not obey the weight limitation\n",
    "            \n",
    "    Does not mutate the given dictionary of cows.\n",
    "\n",
    "    Parameters:\n",
    "    cows - a dictionary of name (string), weight (int) pairs\n",
    "    limit - weight limit of the spaceship (an int)\n",
    "    \n",
    "    Returns:\n",
    "    A list of lists, with each inner list containing the names of cows\n",
    "    transported on a particular trip and the overall list containing all the\n",
    "    trips\n",
    "    \"\"\"\n",
    "    fittingCows = {key:value for key,value in cows.items() if value <= limit}\n",
    "    for transportationScheme in (get_partitions(fittingCows.keys())):\n",
    "        for singleTrip in transportationScheme:\n",
    "            totalWeight = sum([fittingCows[cow] for cow in singleTrip])\n",
    "            if totalWeight > limit:\n",
    "                break\n",
    "        else:\n",
    "            return transportationScheme\n",
    "#             break"
   ]
  },
  {
   "cell_type": "code",
   "execution_count": 8,
   "metadata": {
    "collapsed": false
   },
   "outputs": [
    {
     "name": "stdout",
     "output_type": "stream",
     "text": [
      "[['Henrietta'], ['Moo Moo', 'Florence', 'Maggie', 'Milkshake'], ['Herman', 'Lola'], ['Millie'], ['Betsy'], ['Oreo']]\n"
     ]
    }
   ],
   "source": [
    "cows = load_cows('pset1/ps1_cow_data.txt')\n",
    "print(brute_force_cow_transport(cows, limit=10))"
   ]
  },
  {
   "cell_type": "code",
   "execution_count": 9,
   "metadata": {
    "collapsed": true
   },
   "outputs": [],
   "source": [
    "# Problem 3\n",
    "def compare_cow_transport_algorithms():\n",
    "    \"\"\"\n",
    "    Using the data from ps1_cow_data.txt and the specified weight limit, run your\n",
    "    greedy_cow_transport and brute_force_cow_transport functions here. Use the\n",
    "    default weight limits of 10 for both greedy_cow_transport and\n",
    "    brute_force_cow_transport.\n",
    "    \n",
    "    Print out the number of trips returned by each method, and how long each\n",
    "    method takes to run in seconds.\n",
    "\n",
    "    Returns:\n",
    "    Does not return anything.\n",
    "    \"\"\"\n",
    "    timeStart = time.time()\n",
    "    greedyCowTransportation = greedy_cow_transport(cows, limit=10)\n",
    "    timeFinish = time.time()\n",
    "    runTime = timeFinish - timeStart\n",
    "    print(\"Greedy Algorithm takes accomplishes the transportation in\", str(len(greedyCowTransportation)), \"trips.\" )\n",
    "    print(\"It takes\", str(runTime), \"to run Greedy Algorithm.\")\n",
    "    timeStart = time.time()\n",
    "    bruteForceCowTransportation = brute_force_cow_transport(cows, limit=10)\n",
    "    timeFinish = time.time()\n",
    "    runTime = timeFinish - timeStart\n",
    "    print(\"Greedy Algorithm takes accomplishes the transportation in\", str(len(bruteForceCowTransportation)), \"trips.\" )\n",
    "    print(\"It takes\", str(runTime), \"to run Brute-Force Algorithm.\")"
   ]
  },
  {
   "cell_type": "code",
   "execution_count": 10,
   "metadata": {
    "collapsed": false
   },
   "outputs": [
    {
     "name": "stdout",
     "output_type": "stream",
     "text": [
      "Greedy Algorithm takes accomplishes the transportation in 6 trips.\n",
      "It takes 2.09808349609375e-05 to run Greedy Algorithm.\n",
      "Greedy Algorithm takes accomplishes the transportation in 6 trips.\n",
      "It takes 0.6587519645690918 to run Brute-Force Algorithm.\n"
     ]
    }
   ],
   "source": [
    "compare_cow_transport_algorithms()"
   ]
  }
 ],
 "metadata": {
  "kernelspec": {
   "display_name": "Python 3",
   "language": "python",
   "name": "python3"
  },
  "language_info": {
   "codemirror_mode": {
    "name": "ipython",
    "version": 3
   },
   "file_extension": ".py",
   "mimetype": "text/x-python",
   "name": "python",
   "nbconvert_exporter": "python",
   "pygments_lexer": "ipython3",
   "version": "3.6.0"
  }
 },
 "nbformat": 4,
 "nbformat_minor": 2
}
